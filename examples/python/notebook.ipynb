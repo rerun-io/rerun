{
 "cells": [
  {
   "cell_type": "markdown",
   "id": "92f9e709",
   "metadata": {},
   "source": [
    "# Using ViewerClient in Rerun\n",
    "This notebook demonstrates how to use the `ViewerClient` from the `rerun.experimental` module."
   ]
  },
  {
   "cell_type": "code",
   "execution_count": null,
   "id": "3b306765",
   "metadata": {},
   "outputs": [],
   "source": [
    "# Import ViewerClient from rerun.experimental\n",
    "from rerun.experimental import ViewerClient\n",
    "\n",
    "# Example usage\n",
    "client = ViewerClient(...)"
   ]
  }
 ],
 "metadata": {
  "language_info": {
   "name": "python"
  }
 },
 "nbformat": 4,
 "nbformat_minor": 5
}
