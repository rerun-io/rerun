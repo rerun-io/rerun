{
 "cells": [
  {
   "cell_type": "code",
   "execution_count": null,
   "id": "1076c3a0",
   "metadata": {},
   "outputs": [],
   "source": [
    "from collections import namedtuple\n",
    "from math import cos, sin, tau\n",
    "import math\n",
    "\n",
    "import numpy as np\n",
    "\n",
    "import rerun as rr\n",
    "\n",
    "rr.init(\"cube\")"
   ]
  },
  {
   "cell_type": "markdown",
   "id": "bf894a1f",
   "metadata": {},
   "source": [
    "## Helper to the colored cube"
   ]
  },
  {
   "cell_type": "code",
   "execution_count": null,
   "id": "f709925e",
   "metadata": {},
   "outputs": [],
   "source": [
    "ColorGrid = namedtuple(\"ColorGrid\", [\"positions\", \"colors\"])\n",
    "\n",
    "\n",
    "def build_color_grid(x_count=10, y_count=10, z_count=10, twist=0):\n",
    "    \"\"\"\n",
    "    Create a cube of points with colors.\n",
    "\n",
    "    The total point cloud will have x_count * y_count * z_count points.\n",
    "\n",
    "    Parameters\n",
    "    ----------\n",
    "    x_count, y_count, z_count:\n",
    "        Number of points in each dimension.\n",
    "    twist:\n",
    "        Angle to twist from bottom to top of the cube\n",
    "\n",
    "    \"\"\"\n",
    "\n",
    "    grid = np.mgrid[\n",
    "        slice(-10, 10, x_count * 1j),\n",
    "        slice(-10, 10, y_count * 1j),\n",
    "        slice(-10, 10, z_count * 1j),\n",
    "    ]\n",
    "\n",
    "    angle = np.linspace(-float(twist) / 2, float(twist) / 2, z_count)\n",
    "    for z in range(z_count):\n",
    "        xv, yv, zv = grid[:, :, :, z]\n",
    "        rot_xv = xv * cos(angle[z]) - yv * sin(angle[z])\n",
    "        rot_yv = xv * sin(angle[z]) + yv * cos(angle[z])\n",
    "        grid[:, :, :, z] = [rot_xv, rot_yv, zv]\n",
    "\n",
    "    positions = np.vstack([xyz.ravel() for xyz in grid])\n",
    "\n",
    "    colors = np.vstack(\n",
    "        [\n",
    "            xyz.ravel()\n",
    "            for xyz in np.mgrid[\n",
    "                slice(0, 255, x_count * 1j),\n",
    "                slice(0, 255, y_count * 1j),\n",
    "                slice(0, 255, z_count * 1j),\n",
    "            ]\n",
    "        ]\n",
    "    )\n",
    "\n",
    "    return ColorGrid(positions.T, colors.T.astype(np.uint8))"
   ]
  },
  {
   "cell_type": "markdown",
   "id": "b9a75269",
   "metadata": {},
   "source": [
    "## Display the Cube with Rerun"
   ]
  },
  {
   "cell_type": "code",
   "execution_count": null,
   "id": "92871ea1",
   "metadata": {},
   "outputs": [],
   "source": [
    "rec = rr.memory_recording()\n",
    "\n",
    "STEPS = 100\n",
    "twists = math.pi * np.sin(np.linspace(0, math.tau, STEPS)) / 4\n",
    "for t in range(STEPS):\n",
    "    rr.set_time_sequence(\"step\", t)\n",
    "    cube = build_color_grid(10, 10, 10, twist=twists[t])\n",
    "    rr.log_points(\"cube\", positions=cube.positions, colors=cube.colors, radii=0.5)\n",
    "\n",
    "rec.inline_show()"
   ]
  }
 ],
 "metadata": {
  "kernelspec": {
   "display_name": "Python 3 (ipykernel)",
   "language": "python",
   "name": "python3"
  },
  "language_info": {
   "codemirror_mode": {
    "name": "ipython",
    "version": 3
   },
   "file_extension": ".py",
   "mimetype": "text/x-python",
   "name": "python",
   "nbconvert_exporter": "python",
   "pygments_lexer": "ipython3",
   "version": "3.10.7"
  }
 },
 "nbformat": 4,
 "nbformat_minor": 5
}
