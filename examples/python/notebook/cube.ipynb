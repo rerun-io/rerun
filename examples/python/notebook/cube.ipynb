{
 "cells": [
  {
   "cell_type": "markdown",
   "id": "b31c0a84",
   "metadata": {},
   "source": [
    "## Rerun imports and initialization"
   ]
  },
  {
   "cell_type": "code",
   "execution_count": null,
   "id": "1076c3a0",
   "metadata": {},
   "outputs": [],
   "source": [
    "from collections import namedtuple\n",
    "from math import cos, sin, tau\n",
    "import math\n",
    "\n",
    "import numpy as np\n",
    "import rerun as rr  # pip install rerun-sdk\n",
    "\n",
    "rr.init(\"rerun_example_cube\")"
   ]
  },
  {
   "cell_type": "markdown",
   "id": "f3c194db",
   "metadata": {},
   "source": [
    "## Optional: start a local web-viewer server\n",
    "\n",
    "By default, Rerun will use a copy of the viewer hosted at [https://app.rerun.io](https://app.rerun.io).\n",
    "This is generally preferable as it will work more seamlessly even if you\n",
    "are connected to a notebook instance on a remote machine. However there\n",
    "are some cases where this won't work such as running from source, or\n",
    "using your notebook in an offline environment.\n",
    "\n",
    "In these cases you can start a local viewer server by uncommenting the following\n",
    "line:"
   ]
  },
  {
   "cell_type": "code",
   "execution_count": null,
   "id": "63f80605",
   "metadata": {},
   "outputs": [],
   "source": [
    "# rr.start_web_viewer_server()"
   ]
  },
  {
   "attachments": {},
   "cell_type": "markdown",
   "id": "bf894a1f",
   "metadata": {},
   "source": [
    "## Helper to create the colored cube\n",
    "\n",
    "This code exists in the `rerun.utilities` package, but is repeated here for context."
   ]
  },
  {
   "cell_type": "code",
   "execution_count": null,
   "id": "f709925e",
   "metadata": {},
   "outputs": [],
   "source": [
    "ColorGrid = namedtuple(\"ColorGrid\", [\"positions\", \"colors\"])\n",
    "\n",
    "\n",
    "def build_color_grid(x_count=10, y_count=10, z_count=10, twist=0):\n",
    "    \"\"\"\n",
    "    Create a cube of points with colors.\n",
    "\n",
    "    The total point cloud will have x_count * y_count * z_count points.\n",
    "\n",
    "    Parameters\n",
    "    ----------\n",
    "    x_count, y_count, z_count:\n",
    "        Number of points in each dimension.\n",
    "    twist:\n",
    "        Angle to twist from bottom to top of the cube\n",
    "\n",
    "    \"\"\"\n",
    "\n",
    "    grid = np.mgrid[\n",
    "        slice(-10, 10, x_count * 1j),\n",
    "        slice(-10, 10, y_count * 1j),\n",
    "        slice(-10, 10, z_count * 1j),\n",
    "    ]\n",
    "\n",
    "    angle = np.linspace(-float(twist) / 2, float(twist) / 2, z_count)\n",
    "    for z in range(z_count):\n",
    "        xv, yv, zv = grid[:, :, :, z]\n",
    "        rot_xv = xv * cos(angle[z]) - yv * sin(angle[z])\n",
    "        rot_yv = xv * sin(angle[z]) + yv * cos(angle[z])\n",
    "        grid[:, :, :, z] = [rot_xv, rot_yv, zv]\n",
    "\n",
    "    positions = np.vstack([xyz.ravel() for xyz in grid])\n",
    "\n",
    "    colors = np.vstack(\n",
    "        [\n",
    "            xyz.ravel()\n",
    "            for xyz in np.mgrid[\n",
    "                slice(0, 255, x_count * 1j),\n",
    "                slice(0, 255, y_count * 1j),\n",
    "                slice(0, 255, z_count * 1j),\n",
    "            ]\n",
    "        ]\n",
    "    )\n",
    "\n",
    "    return ColorGrid(positions.T, colors.T.astype(np.uint8))"
   ]
  },
  {
   "cell_type": "markdown",
   "id": "b9a75269",
   "metadata": {},
   "source": [
    "## Start a new recording\n",
    "\n",
    "To start a new recording all you need to do is call rr.memory_recording()."
   ]
  },
  {
   "cell_type": "code",
   "execution_count": null,
   "id": "f4e1caf9",
   "metadata": {},
   "outputs": [],
   "source": [
    "rec = rr.memory_recording()"
   ]
  },
  {
   "cell_type": "markdown",
   "id": "6e4f945b",
   "metadata": {},
   "source": [
    "## Showing the recording\n",
    "\n",
    "At any point you can show this recording by returning it as the last item in the cell.\n",
    "In this case the recording simply does not have any data in it yet."
   ]
  },
  {
   "cell_type": "code",
   "execution_count": null,
   "id": "d586d222",
   "metadata": {},
   "outputs": [],
   "source": [
    "rec"
   ]
  },
  {
   "cell_type": "markdown",
   "id": "04c095ef",
   "metadata": {},
   "source": [
    "## Logging some data\n",
    "\n",
    "Now we can create some data and add it to the recording before we show it again."
   ]
  },
  {
   "cell_type": "code",
   "execution_count": null,
   "id": "92871ea1",
   "metadata": {},
   "outputs": [],
   "source": [
    "STEPS = 100\n",
    "twists = math.pi * np.sin(np.linspace(0, math.tau, STEPS)) / 4\n",
    "for t in range(STEPS):\n",
    "    rr.set_time_sequence(\"step\", t)\n",
    "    cube = build_color_grid(10, 10, 10, twist=twists[t])\n",
    "    rr.log(\"cube\", rr.Points3D(cube.positions, colors=cube.colors, radii=0.5))\n",
    "\n",
    "rec"
   ]
  },
  {
   "cell_type": "markdown",
   "id": "31d392a8",
   "metadata": {},
   "source": [
    "## Adjusting the view\n",
    "\n",
    "The recording also as a `show` method that lets you adjust properties such as width and height.\n",
    "In the future this will support additional blueprint and layout options."
   ]
  },
  {
   "cell_type": "code",
   "execution_count": null,
   "id": "1a1b0f66-4287-4705-8be5-ae837ffe3f90",
   "metadata": {
    "tags": []
   },
   "outputs": [],
   "source": [
    "rec.show(width=400, height=400)"
   ]
  },
  {
   "cell_type": "markdown",
   "id": "36f9f61b",
   "metadata": {},
   "source": [
    "## Stating a new recording\n",
    "\n",
    "You can always start another recording by calling `rr.memory_recording()` again."
   ]
  },
  {
   "cell_type": "code",
   "execution_count": null,
   "id": "c4cc33fd",
   "metadata": {},
   "outputs": [],
   "source": [
    "rec2 = rr.memory_recording()\n",
    "\n",
    "STEPS = 1\n",
    "twists = math.pi * np.sin(np.linspace(0, math.tau, STEPS)) / 4\n",
    "for t in range(STEPS):\n",
    "    rr.set_time_sequence(\"step\", t)\n",
    "    cube = build_color_grid(50, 50, 50, twist=twists[t])\n",
    "    rr.log(\"cube\", rr.Points3D(cube.positions, colors=cube.colors, radii=0.5))\n",
    "\n",
    "rec2"
   ]
  },
  {
   "cell_type": "code",
   "execution_count": null,
   "id": "eb8f7701",
   "metadata": {},
   "outputs": [],
   "source": []
  }
 ],
 "metadata": {
  "kernelspec": {
   "display_name": "Python 3 (ipykernel)",
   "language": "python",
   "name": "python3"
  },
  "language_info": {
   "codemirror_mode": {
    "name": "ipython",
    "version": 3
   },
   "file_extension": ".py",
   "mimetype": "text/x-python",
   "name": "python",
   "nbconvert_exporter": "python",
   "pygments_lexer": "ipython3",
   "version": "3.11.6"
  }
 },
 "nbformat": 4,
 "nbformat_minor": 5
}
