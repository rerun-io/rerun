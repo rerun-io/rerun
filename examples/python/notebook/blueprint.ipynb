{
 "cells": [
  {
   "cell_type": "markdown",
   "metadata": {},
   "source": [
    "### Set up environment"
   ]
  },
  {
   "cell_type": "code",
   "execution_count": null,
   "metadata": {},
   "outputs": [],
   "source": [
    "import numpy as np\n",
    "import rerun as rr  # pip install rerun-sdk\n",
    "import rerun.experimental as rr2  # Note: blueprint support is still experimental"
   ]
  },
  {
   "cell_type": "markdown",
   "metadata": {},
   "source": [
    "### Initialize Rerun"
   ]
  },
  {
   "cell_type": "code",
   "execution_count": null,
   "metadata": {},
   "outputs": [],
   "source": [
    "rr.init(\"rerun_example_blueprint_demo\")\n",
    "rr.start_web_viewer_server()\n",
    "\n",
    "rec = rr.memory_recording()"
   ]
  },
  {
   "cell_type": "markdown",
   "metadata": {},
   "source": [
    "### Log Some Data"
   ]
  },
  {
   "cell_type": "code",
   "execution_count": null,
   "metadata": {},
   "outputs": [],
   "source": [
    "img = np.zeros([128, 128, 3], dtype=\"uint8\")\n",
    "for i in range(8):\n",
    "    img[(i * 16) + 4 : (i * 16) + 12, :] = (0, 0, 200)\n",
    "    rr.log(\"image\", rr.Image(img))\n",
    "    rr.log(\"rect/0\", rr.Boxes2D(array=[16, 16, 64, 64], labels=\"Rect1\", colors=(255, 0, 0)))\n",
    "    rr.log(\"rect/1\", rr.Boxes2D(array=[48, 48, 64, 64], labels=\"Rect2\", colors=(0, 255, 0)))\n",
    "\n",
    "# Show rec with default blueprint\n",
    "rec"
   ]
  },
  {
   "cell_type": "markdown",
   "metadata": {},
   "source": [
    "### Add a space view to the default blueprint"
   ]
  },
  {
   "cell_type": "code",
   "execution_count": null,
   "metadata": {},
   "outputs": [],
   "source": [
    "bp = rr2.new_blueprint(\"Blueprint demo\", add_to_app_default_blueprint=True)\n",
    "rr2.add_space_view(\n",
    "    name=\"overlaid\", space_view_class=\"2D\", origin=\"/\", entity_paths=[\"image\", \"rect/0\", \"rect/1\"], blueprint=bp\n",
    ")\n",
    "bp.memory_recording()"
   ]
  },
  {
   "cell_type": "code",
   "execution_count": null,
   "metadata": {},
   "outputs": [],
   "source": [
    "bp = rr2.new_blueprint(\"Blueprint demo\")\n",
    "rr2.set_panels(all_expanded=False, blueprint=bp)\n",
    "\n",
    "rr2.add_space_view(\n",
    "    name=\"overlaid\", space_view_class=\"2D\", origin=\"/\", entity_paths=[\"image\", \"rect/0\", \"rect/1\"], blueprint=bp\n",
    ")\n",
    "bp.memory_recording()"
   ]
  },
  {
   "cell_type": "code",
   "execution_count": null,
   "metadata": {},
   "outputs": [],
   "source": []
  }
 ],
 "metadata": {
  "kernelspec": {
   "display_name": "Python 3 (ipykernel)",
   "language": "python",
   "name": "python3"
  },
  "language_info": {
   "codemirror_mode": {
    "name": "ipython",
    "version": 3
   },
   "file_extension": ".py",
   "mimetype": "text/x-python",
   "name": "python",
   "nbconvert_exporter": "python",
   "pygments_lexer": "ipython3",
   "version": "3.8.18"
  }
 },
 "nbformat": 4,
 "nbformat_minor": 2
}
