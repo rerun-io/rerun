{
 "cells": [
  {
   "cell_type": "markdown",
   "id": "33046a49-dedf-4807-b80b-c6822c29d533",
   "metadata": {
    "scrolled": true,
    "slideshow": {
     "slide_type": "slide"
    }
   },
   "source": [
    "# Partial updates\n",
    "\n",
    "This example demonstrates how to perform partial updates on individual components.\n",
    "To learn more about this concept check [this doc page](https://rerun.io/docs/howto/logging/send-partial-updates).\n",
    "\n",
    "## Setup a point cloud"
   ]
  },
  {
   "cell_type": "code",
   "execution_count": 1,
   "id": "673f9288",
   "metadata": {},
   "outputs": [
    {
     "name": "stdout",
     "output_type": "stream",
     "text": [
      "The history saving thread hit an unexpected error (OperationalError('attempt to write a readonly database')).History will not be written to the database.\n"
     ]
    },
    {
     "data": {
      "application/vnd.jupyter.widget-view+json": {
       "model_id": "95aff181625e4aceb6fd502889155588",
       "version_major": 2,
       "version_minor": 1
      },
      "text/plain": [
       "Viewer()"
      ]
     },
     "metadata": {},
     "output_type": "display_data"
    }
   ],
   "source": [
    "import rerun as rr\n",
    "import numpy as np\n",
    "\n",
    "rng = np.random.default_rng(42)\n",
    "n = 1000\n",
    "positions = rng.uniform(0, 10, size=[n, 3])\n",
    "\n",
    "rr.init(\"partial_updates\")\n",
    "rr.set_time_sequence(\"t\", 0)\n",
    "rr.log(\"points\", rr.Points3D(positions, radii=0.1))\n",
    "\n",
    "rr.notebook_show()"
   ]
  },
  {
   "cell_type": "markdown",
   "id": "9f91601c-d77c-48f8-b0d3-0e4b37063f56",
   "metadata": {},
   "source": [
    "## Update colors for different timestamps in a loop\n",
    "The previously logged positions are still used"
   ]
  },
  {
   "cell_type": "code",
   "execution_count": null,
   "id": "29b68ec3-4895-4433-a8a1-cecb5172de61",
   "metadata": {},
   "outputs": [],
   "source": [
    "for i in range(10):\n",
    "    rr.set_time_sequence(\"t\", i)\n",
    "    colors_slide_x = n * [(255,0,0)] * (positions < i)\n",
    "    rr.log(\"points\", rr.Points3D.from_fields(colors=colors_slide_x))"
   ]
  },
  {
   "cell_type": "markdown",
   "id": "32cad202-87db-4e38-8683-d98713ec1de6",
   "metadata": {},
   "source": [
    "## Update colors for different timestamps in a single call\n",
    "Like before, but passes columnar data with a single SDK call"
   ]
  },
  {
   "cell_type": "code",
   "execution_count": 3,
   "id": "cc00ca62-1348-4136-9cd5-77acc4e6e31f",
   "metadata": {},
   "outputs": [],
   "source": [
    "times = np.arange(0, 10)\n",
    "all_colors_slide_z = np.vstack([n * [(0,0,255)] * (positions < t) for t in times])\n",
    "\n",
    "rr.send_columns(\"points\", [rr.TimeSequenceColumn(\"t\", times)], rr.Points3D.columns(colors=all_colors_slide_z).partition([n] * 10))"
   ]
  }
 ],
 "metadata": {
  "kernelspec": {
   "display_name": "Python 3 (ipykernel)",
   "language": "python",
   "name": "python3"
  },
  "language_info": {
   "codemirror_mode": {
    "name": "ipython",
    "version": 3
   },
   "file_extension": ".py",
   "mimetype": "text/x-python",
   "name": "python",
   "nbconvert_exporter": "python",
   "pygments_lexer": "ipython3",
   "version": "3.13.1"
  }
 },
 "nbformat": 4,
 "nbformat_minor": 5
}
