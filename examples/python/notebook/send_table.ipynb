{
 "cells": [
  {
   "cell_type": "markdown",
   "id": "85c477c3-5f26-4294-a2ea-4042a0c38b7f",
   "metadata": {},
   "source": [
    "### How to run\n",
    "\n",
    "```sh\n",
    "# pixi run py-build-examples\n",
    "# pixi run -e examples py-build-notebook\n",
    "# pixi run -e examples jupyter notebook examples/python/notebook/send_table.ipynb\n",
    "```"
   ]
  },
  {
   "cell_type": "markdown",
   "id": "b38ebc1f-1d6b-4d18-85e4-e71713280b6b",
   "metadata": {},
   "source": [
    "## Inline viewer"
   ]
  },
  {
   "cell_type": "code",
   "execution_count": 17,
   "id": "07896f77-3b0f-42fe-bd57-ce6ae563ab69",
   "metadata": {},
   "outputs": [],
   "source": [
    "from __future__ import annotations"
   ]
  },
  {
   "cell_type": "code",
   "execution_count": 18,
   "id": "e5789224-afa8-4250-9eae-2ca570d46088",
   "metadata": {},
   "outputs": [],
   "source": [
    "import os\n",
    "\n",
    "os.environ[\"RERUN_NOTEBOOK_ASSET\"] = \"inline\"\n",
    "\n",
    "import numpy as np\n",
    "import pandas as pd\n",
    "import pyarrow as pa\n",
    "import rerun as rr"
   ]
  },
  {
   "cell_type": "markdown",
   "id": "e317e818-4a96-4c63-a9a0-cce25073b2e5",
   "metadata": {},
   "source": [
    "### Send a basic table"
   ]
  },
  {
   "cell_type": "code",
   "execution_count": 19,
   "id": "aea716a4-164c-436f-9b6a-ca6f171214b5",
   "metadata": {},
   "outputs": [
    {
     "data": {
      "application/vnd.jupyter.widget-view+json": {
       "model_id": "5073a249568b4e2188e66ea721572149",
       "version_major": 2,
       "version_minor": 1
      },
      "text/plain": [
       "Viewer()"
      ]
     },
     "metadata": {},
     "output_type": "display_data"
    }
   ],
   "source": [
    "viewer = rr.notebook.Viewer(width=1024, height=200)\n",
    "viewer.display()\n",
    "viewer.send_table(\n",
    "    \"Hello from Notebook\",\n",
    "    pa.RecordBatch.from_pydict({\"Column A\": [1, 2, 3], \"Column B\": [\"https://www.rerun.io\", \"Hello\", \"World\"]}),\n",
    ")"
   ]
  },
  {
   "cell_type": "markdown",
   "id": "59ebc9cb-cb8f-47e9-9beb-a9ff96a7ca17",
   "metadata": {},
   "source": [
    "### Send a Pandas dataframe"
   ]
  },
  {
   "cell_type": "code",
   "execution_count": 20,
   "id": "e15fcb31-4e74-47f9-9eba-b6bcdc545c2b",
   "metadata": {},
   "outputs": [
    {
     "data": {
      "text/html": [
       "<div>\n",
       "<style scoped>\n",
       "    .dataframe tbody tr th:only-of-type {\n",
       "        vertical-align: middle;\n",
       "    }\n",
       "\n",
       "    .dataframe tbody tr th {\n",
       "        vertical-align: top;\n",
       "    }\n",
       "\n",
       "    .dataframe thead th {\n",
       "        text-align: right;\n",
       "    }\n",
       "</style>\n",
       "<table border=\"1\" class=\"dataframe\">\n",
       "  <thead>\n",
       "    <tr style=\"text-align: right;\">\n",
       "      <th></th>\n",
       "      <th>A</th>\n",
       "      <th>B</th>\n",
       "      <th>C</th>\n",
       "      <th>D</th>\n",
       "    </tr>\n",
       "  </thead>\n",
       "  <tbody>\n",
       "    <tr>\n",
       "      <th>2013-01-01</th>\n",
       "      <td>0.032520</td>\n",
       "      <td>-1.180279</td>\n",
       "      <td>1.317569</td>\n",
       "      <td>0.715590</td>\n",
       "    </tr>\n",
       "    <tr>\n",
       "      <th>2013-01-02</th>\n",
       "      <td>1.358431</td>\n",
       "      <td>-0.408174</td>\n",
       "      <td>0.968493</td>\n",
       "      <td>-0.019260</td>\n",
       "    </tr>\n",
       "    <tr>\n",
       "      <th>2013-01-03</th>\n",
       "      <td>-0.871224</td>\n",
       "      <td>-0.470872</td>\n",
       "      <td>-0.686177</td>\n",
       "      <td>-0.451445</td>\n",
       "    </tr>\n",
       "    <tr>\n",
       "      <th>2013-01-04</th>\n",
       "      <td>0.113591</td>\n",
       "      <td>0.181574</td>\n",
       "      <td>-0.069943</td>\n",
       "      <td>-0.252722</td>\n",
       "    </tr>\n",
       "    <tr>\n",
       "      <th>2013-01-05</th>\n",
       "      <td>-1.827990</td>\n",
       "      <td>0.964209</td>\n",
       "      <td>-0.396937</td>\n",
       "      <td>1.178461</td>\n",
       "    </tr>\n",
       "    <tr>\n",
       "      <th>2013-01-06</th>\n",
       "      <td>0.768690</td>\n",
       "      <td>-0.270641</td>\n",
       "      <td>-0.864460</td>\n",
       "      <td>0.345714</td>\n",
       "    </tr>\n",
       "  </tbody>\n",
       "</table>\n",
       "</div>"
      ],
      "text/plain": [
       "                   A         B         C         D\n",
       "2013-01-01  0.032520 -1.180279  1.317569  0.715590\n",
       "2013-01-02  1.358431 -0.408174  0.968493 -0.019260\n",
       "2013-01-03 -0.871224 -0.470872 -0.686177 -0.451445\n",
       "2013-01-04  0.113591  0.181574 -0.069943 -0.252722\n",
       "2013-01-05 -1.827990  0.964209 -0.396937  1.178461\n",
       "2013-01-06  0.768690 -0.270641 -0.864460  0.345714"
      ]
     },
     "execution_count": 20,
     "metadata": {},
     "output_type": "execute_result"
    }
   ],
   "source": [
    "dates = pd.date_range(\"20130101\", periods=6)\n",
    "df = pd.DataFrame(np.random.randn(6, 4), index=dates, columns=list(\"ABCD\"))\n",
    "df_reset = df.reset_index().rename(columns={\"index\": \"date\"})\n",
    "df"
   ]
  },
  {
   "cell_type": "markdown",
   "id": "e9c6b95c-52a1-407c-a428-94f1662879f5",
   "metadata": {},
   "source": [
    "### Send a Pandas dataframe"
   ]
  },
  {
   "cell_type": "code",
   "execution_count": 21,
   "id": "837e06ba-ad72-4dff-a6f4-5e7e211a137d",
   "metadata": {},
   "outputs": [
    {
     "data": {
      "application/vnd.jupyter.widget-view+json": {
       "model_id": "82e63c5cb63d40a4a666efad271a4c7c",
       "version_major": 2,
       "version_minor": 1
      },
      "text/plain": [
       "Viewer()"
      ]
     },
     "metadata": {},
     "output_type": "display_data"
    }
   ],
   "source": [
    "viewer = rr.notebook.Viewer(width=1024, height=350)\n",
    "viewer.display()\n",
    "viewer.send_table(\"Hello from Pandas\", pa.RecordBatch.from_pandas(df))"
   ]
  },
  {
   "cell_type": "markdown",
   "id": "44751417-b9e4-4f49-94b4-934546d3a8d1",
   "metadata": {},
   "source": [
    "## SDK + Native viewer"
   ]
  },
  {
   "cell_type": "code",
   "execution_count": 1,
   "id": "ecd9f116-c6ab-4001-9529-c55dfb8794a0",
   "metadata": {},
   "outputs": [],
   "source": [
    "import os\n",
    "\n",
    "os.environ[\"RERUN_NOTEBOOK_ASSET\"] = \"serve-local\"\n",
    "\n",
    "import numpy as np\n",
    "import pandas as pd\n",
    "import pyarrow as pa\n",
    "import rerun as rr\n",
    "from rerun.experimental import ViewerClient"
   ]
  },
  {
   "cell_type": "code",
   "execution_count": 2,
   "id": "3374e673-368f-44d7-9545-05420a81de5b",
   "metadata": {},
   "outputs": [],
   "source": [
    "client = ViewerClient(addr=\"rerun+http://0.0.0.0:9876/proxy\")"
   ]
  },
  {
   "cell_type": "markdown",
   "id": "4da18888-9721-4219-bbd9-9cf19e60b48d",
   "metadata": {},
   "source": [
    "### Send a basic table"
   ]
  },
  {
   "cell_type": "code",
   "execution_count": 3,
   "id": "99b9192b-fdb5-48fe-9902-9cab5f273edf",
   "metadata": {},
   "outputs": [],
   "source": [
    "client.send_table(\n",
    "    \"Hello from Notebook\",\n",
    "    pa.RecordBatch.from_pydict({\"Column A\": [1, 2, 3], \"Column B\": [\"https://www.rerun.io\", \"Hello\", \"World\"]}),\n",
    ")"
   ]
  },
  {
   "cell_type": "markdown",
   "id": "0c2d65cd-e3e6-4f8c-80be-c1635ee36b64",
   "metadata": {},
   "source": [
    "### Send a Pandas dataframe"
   ]
  },
  {
   "cell_type": "code",
   "execution_count": 26,
   "id": "1fcb9550-ae01-4509-988b-177e188dca28",
   "metadata": {},
   "outputs": [],
   "source": [
    "client.send_table(\"Hello from Pandas\", pa.RecordBatch.from_pandas(df))"
   ]
  }
 ],
 "metadata": {
  "kernelspec": {
   "display_name": "Python 3 (ipykernel)",
   "language": "python",
   "name": "python3"
  },
  "language_info": {
   "codemirror_mode": {
    "name": "ipython",
    "version": 3
   },
   "file_extension": ".py",
   "mimetype": "text/x-python",
   "name": "python",
   "nbconvert_exporter": "python",
   "pygments_lexer": "ipython3",
   "version": "3.11.10"
  }
 },
 "nbformat": 4,
 "nbformat_minor": 5
}
