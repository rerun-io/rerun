{
 "cells": [
  {
   "cell_type": "markdown",
   "id": "85c477c3-5f26-4294-a2ea-4042a0c38b7f",
   "metadata": {},
   "source": [
    "### How to run\n",
    "\n",
    "```sh\n",
    "# pixi run py-build-examples\n",
    "# pixi run -e examples py-build-notebook\n",
    "# pixi run -e examples jupyter notebook examples/python/notebook/send_table.ipynb\n",
    "```"
   ]
  },
  {
   "cell_type": "code",
   "execution_count": 1,
   "id": "e5789224-afa8-4250-9eae-2ca570d46088",
   "metadata": {},
   "outputs": [],
   "source": [
    "from __future__ import annotations\n",
    "\n",
    "import os\n",
    "\n",
    "os.environ[\"RERUN_NOTEBOOK_ASSET\"] = \"inline\""
   ]
  },
  {
   "cell_type": "code",
   "execution_count": 5,
   "id": "c993d2ab-5bbb-4af0-89a5-1c370b7b9523",
   "metadata": {},
   "outputs": [],
   "source": [
    "import numpy as np\n",
    "import pandas as pd\n",
    "import pyarrow as pa\n",
    "import rerun as rr"
   ]
  },
  {
   "cell_type": "markdown",
   "id": "e317e818-4a96-4c63-a9a0-cce25073b2e5",
   "metadata": {},
   "source": [
    "### Send a basic table"
   ]
  },
  {
   "cell_type": "code",
   "execution_count": 3,
   "id": "aea716a4-164c-436f-9b6a-ca6f171214b5",
   "metadata": {},
   "outputs": [
    {
     "data": {
      "application/vnd.jupyter.widget-view+json": {
       "model_id": "bd5a1609428f42d689dbde5a2b79d0db",
       "version_major": 2,
       "version_minor": 1
      },
      "text/plain": [
       "Viewer()"
      ]
     },
     "metadata": {},
     "output_type": "display_data"
    }
   ],
   "source": [
    "viewer = rr.notebook.Viewer(width=1024, height=700)\n",
    "viewer.display()\n",
    "viewer.send_table(\n",
    "    \"Hello from Notebook\",\n",
    "    pa.RecordBatch.from_pydict({\"Column A\": [1, 2, 3], \"Column B\": [\"https://www.rerun.io\", \"Hello\", \"World\"]}),\n",
    ")"
   ]
  },
  {
   "cell_type": "markdown",
   "id": "59ebc9cb-cb8f-47e9-9beb-a9ff96a7ca17",
   "metadata": {},
   "source": [
    "### Send a Pandas dataframe"
   ]
  },
  {
   "cell_type": "code",
   "execution_count": 6,
   "id": "e15fcb31-4e74-47f9-9eba-b6bcdc545c2b",
   "metadata": {},
   "outputs": [
    {
     "data": {
      "text/html": [
       "<div>\n",
       "<style scoped>\n",
       "    .dataframe tbody tr th:only-of-type {\n",
       "        vertical-align: middle;\n",
       "    }\n",
       "\n",
       "    .dataframe tbody tr th {\n",
       "        vertical-align: top;\n",
       "    }\n",
       "\n",
       "    .dataframe thead th {\n",
       "        text-align: right;\n",
       "    }\n",
       "</style>\n",
       "<table border=\"1\" class=\"dataframe\">\n",
       "  <thead>\n",
       "    <tr style=\"text-align: right;\">\n",
       "      <th></th>\n",
       "      <th>A</th>\n",
       "      <th>B</th>\n",
       "      <th>C</th>\n",
       "      <th>D</th>\n",
       "    </tr>\n",
       "  </thead>\n",
       "  <tbody>\n",
       "    <tr>\n",
       "      <th>2013-01-01</th>\n",
       "      <td>0.823557</td>\n",
       "      <td>-0.290076</td>\n",
       "      <td>0.238599</td>\n",
       "      <td>-0.629761</td>\n",
       "    </tr>\n",
       "    <tr>\n",
       "      <th>2013-01-02</th>\n",
       "      <td>-0.520894</td>\n",
       "      <td>-0.817653</td>\n",
       "      <td>-0.169291</td>\n",
       "      <td>-0.506261</td>\n",
       "    </tr>\n",
       "    <tr>\n",
       "      <th>2013-01-03</th>\n",
       "      <td>-0.002897</td>\n",
       "      <td>0.752245</td>\n",
       "      <td>-0.613818</td>\n",
       "      <td>1.111361</td>\n",
       "    </tr>\n",
       "    <tr>\n",
       "      <th>2013-01-04</th>\n",
       "      <td>0.938248</td>\n",
       "      <td>-1.109515</td>\n",
       "      <td>0.536320</td>\n",
       "      <td>-1.075220</td>\n",
       "    </tr>\n",
       "    <tr>\n",
       "      <th>2013-01-05</th>\n",
       "      <td>0.033130</td>\n",
       "      <td>0.771321</td>\n",
       "      <td>0.310634</td>\n",
       "      <td>-0.595946</td>\n",
       "    </tr>\n",
       "    <tr>\n",
       "      <th>2013-01-06</th>\n",
       "      <td>1.205717</td>\n",
       "      <td>-2.282729</td>\n",
       "      <td>1.290203</td>\n",
       "      <td>0.592006</td>\n",
       "    </tr>\n",
       "  </tbody>\n",
       "</table>\n",
       "</div>"
      ],
      "text/plain": [
       "                   A         B         C         D\n",
       "2013-01-01  0.823557 -0.290076  0.238599 -0.629761\n",
       "2013-01-02 -0.520894 -0.817653 -0.169291 -0.506261\n",
       "2013-01-03 -0.002897  0.752245 -0.613818  1.111361\n",
       "2013-01-04  0.938248 -1.109515  0.536320 -1.075220\n",
       "2013-01-05  0.033130  0.771321  0.310634 -0.595946\n",
       "2013-01-06  1.205717 -2.282729  1.290203  0.592006"
      ]
     },
     "execution_count": 6,
     "metadata": {},
     "output_type": "execute_result"
    }
   ],
   "source": [
    "dates = pd.date_range(\"20130101\", periods=6)\n",
    "df = pd.DataFrame(np.random.randn(6, 4), index=dates, columns=list(\"ABCD\"))\n",
    "df_reset = df.reset_index().rename(columns={\"index\": \"date\"})\n",
    "df"
   ]
  },
  {
   "cell_type": "code",
   "execution_count": 7,
   "id": "837e06ba-ad72-4dff-a6f4-5e7e211a137d",
   "metadata": {},
   "outputs": [
    {
     "data": {
      "application/vnd.jupyter.widget-view+json": {
       "model_id": "aa0fb7b7b5884f3fa7f7653b2f81bb39",
       "version_major": 2,
       "version_minor": 1
      },
      "text/plain": [
       "Viewer()"
      ]
     },
     "metadata": {},
     "output_type": "display_data"
    }
   ],
   "source": [
    "viewer = rr.notebook.Viewer(width=1024, height=700)\n",
    "viewer.display()\n",
    "viewer.send_table(\"Hello from Pandas\", pa.RecordBatch.from_pandas(df))"
   ]
  },
  {
   "cell_type": "code",
   "execution_count": null,
   "id": "7de877bf-f3ba-4f73-867a-1dd7930a2063",
   "metadata": {},
   "outputs": [],
   "source": []
  }
 ],
 "metadata": {
  "kernelspec": {
   "display_name": "Python 3 (ipykernel)",
   "language": "python",
   "name": "python3"
  },
  "language_info": {
   "codemirror_mode": {
    "name": "ipython",
    "version": 3
   },
   "file_extension": ".py",
   "mimetype": "text/x-python",
   "name": "python",
   "nbconvert_exporter": "python",
   "pygments_lexer": "ipython3",
   "version": "3.12.9"
  }
 },
 "nbformat": 4,
 "nbformat_minor": 5
}
