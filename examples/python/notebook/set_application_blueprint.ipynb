{
 "cells": [
  {
   "cell_type": "markdown",
   "id": "0",
   "metadata": {},
   "source": [
    "### How to run\n",
    "\n",
    "```sh\n",
    "pixi run py-build\n",
    "pixi run py-build-notebook\n",
    "pixi run -e py jupyter notebook examples/python/notebook/set_application_blueprint.ipynb\n",
    "```"
   ]
  },
  {
   "cell_type": "markdown",
   "id": "1",
   "metadata": {},
   "source": [
    "## Inline viewer"
   ]
  },
  {
   "cell_type": "code",
   "execution_count": null,
   "id": "2",
   "metadata": {},
   "outputs": [],
   "source": [
    "from __future__ import annotations"
   ]
  },
  {
   "cell_type": "code",
   "execution_count": null,
   "id": "3",
   "metadata": {},
   "outputs": [],
   "source": [
    "import os\n",
    "\n",
    "os.environ[\"RERUN_NOTEBOOK_ASSET\"] = \"inline\"\n",
    "\n",
    "import rerun as rr\n",
    "import rerun.blueprint as rrb\n",
    "from rerun.notebook import Viewer"
   ]
  },
  {
   "cell_type": "markdown",
   "id": "4",
   "metadata": {},
   "source": [
    "### Setup a blueprint"
   ]
  },
  {
   "cell_type": "code",
   "execution_count": null,
   "id": "5",
   "metadata": {},
   "outputs": [],
   "source": [
    "rr.init(\"MY_APP_ID\")\n",
    "rr.log(\"/entity/path\", rr.Points3D([0, 0, 0]))\n",
    "\n",
    "blueprint = rrb.Spatial3DView(contents=\"/entity/**\", background=[100, 149, 237])\n",
    "viewer = Viewer(width=\"auto\", height=\"auto\")\n",
    "viewer.set_application_blueprint(\"MY_APP_ID\", blueprint)\n",
    "viewer.display()"
   ]
  }
 ],
 "metadata": {
  "kernelspec": {
   "display_name": "Python 3 (ipykernel)",
   "language": "python",
   "name": "python3"
  },
  "language_info": {
   "codemirror_mode": {
    "name": "ipython",
    "version": 3
   },
   "file_extension": ".py",
   "mimetype": "text/x-python",
   "name": "python",
   "nbconvert_exporter": "python",
   "pygments_lexer": "ipython3",
   "version": "3.11.10"
  }
 },
 "nbformat": 4,
 "nbformat_minor": 5
}
