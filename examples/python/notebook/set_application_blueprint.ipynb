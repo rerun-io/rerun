{
 "cells": [
  {
   "cell_type": "markdown",
   "id": "85c477c3-5f26-4294-a2ea-4042a0c38b7f",
   "metadata": {},
   "source": [
    "### How to run\n",
    "\n",
    "```sh\n",
    "# pixi run py-build-examples\n",
    "# pixi run -e examples py-build-notebook\n",
    "# pixi run -e examples jupyter notebook examples/python/notebook/set_application_blueprint.ipynb\n",
    "```"
   ]
  },
  {
   "cell_type": "markdown",
   "id": "b38ebc1f-1d6b-4d18-85e4-e71713280b6b",
   "metadata": {},
   "source": [
    "## Inline viewer"
   ]
  },
  {
   "cell_type": "code",
   "execution_count": null,
   "id": "07896f77-3b0f-42fe-bd57-ce6ae563ab69",
   "metadata": {},
   "outputs": [],
   "source": [
    "from __future__ import annotations"
   ]
  },
  {
   "cell_type": "code",
   "execution_count": null,
   "id": "e5789224-afa8-4250-9eae-2ca570d46088",
   "metadata": {},
   "outputs": [],
   "source": [
    "import os\n",
    "\n",
    "os.environ[\"RERUN_NOTEBOOK_ASSET\"] = \"inline\"\n",
    "\n",
    "import rerun as rr\n",
    "import rerun.blueprint as rrb"
   ]
  },
  {
   "cell_type": "markdown",
   "id": "e317e818-4a96-4c63-a9a0-cce25073b2e5",
   "metadata": {},
   "source": [
    "### Setup a blueprint"
   ]
  },
  {
   "cell_type": "code",
   "execution_count": null,
   "id": "aea716a4-164c-436f-9b6a-ca6f171214b5",
   "metadata": {},
   "outputs": [],
   "source": [
    "rr.init(\"MY_APP_ID\")\n",
    "rr.log(\"/entity/path\", rr.Points3D([0, 0, 0]))\n",
    "\n",
    "blueprint = rrb.Spatial3DView(contents=\"/entity/**\", background=[100, 149, 237])\n",
    "viewer = rr.notebook.Viewer(width=1350, height=800)\n",
    "viewer.set_application_blueprint(\"MY_APP_ID\", blueprint)\n",
    "viewer.display()"
   ]
  }
 ],
 "metadata": {
  "kernelspec": {
   "display_name": "Python 3 (ipykernel)",
   "language": "python",
   "name": "python3"
  },
  "language_info": {
   "codemirror_mode": {
    "name": "ipython",
    "version": 3
   },
   "file_extension": ".py",
   "mimetype": "text/x-python",
   "name": "python",
   "nbconvert_exporter": "python",
   "pygments_lexer": "ipython3",
   "version": "3.11.10"
  }
 },
 "nbformat": 4,
 "nbformat_minor": 5
}
