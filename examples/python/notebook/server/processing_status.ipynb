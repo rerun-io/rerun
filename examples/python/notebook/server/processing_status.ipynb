{
 "cells": [
  {
   "cell_type": "code",
   "execution_count": 1,
   "id": "8554b047-8616-4dd9-9494-1d2b22d5e9fc",
   "metadata": {},
   "outputs": [],
   "source": [
    "from __future__ import annotations"
   ]
  },
  {
   "cell_type": "markdown",
   "id": "450fd1f4-65e6-463c-a5ae-18c5b31aeeb7",
   "metadata": {},
   "source": [
    "# Data processing status example\n",
    "\n",
    "This example assumes you have started the OSS server using the dataset example located in the test\n",
    "asset directory. From the rerun repository you can start this using the following command.\n",
    "\n",
    "```shell\n",
    "rerun server --dataset ./tests/assets/rrd/dataset\n",
    "```"
   ]
  },
  {
   "cell_type": "code",
   "execution_count": 66,
   "id": "017f2c20-62c4-426c-842d-2c41d3da49c4",
   "metadata": {},
   "outputs": [],
   "source": [
    "from datafusion import col\n",
    "from datetime import datetime\n",
    "from pathlib import Path\n",
    "from rerun.catalog import CatalogClient\n",
    "from typing import TYPE_CHECKING\n",
    "import pyarrow as pa\n",
    "import tempfile\n",
    "\n",
    "if TYPE_CHECKING:\n",
    "    from collections.abc import Generator\n",
    "\n",
    "CATALOG_URL = \"rerun+http://localhost:51234\"\n",
    "DATASET_NAME = \"dataset\"\n",
    "\n",
    "STATUS_TABLE_NAME = \"status\"\n",
    "RESULTS_TABLE_NAME = \"results\""
   ]
  },
  {
   "cell_type": "code",
   "execution_count": 67,
   "id": "ae278a02-fe2d-4efe-b6c5-5214f2c5edf9",
   "metadata": {},
   "outputs": [],
   "source": [
    "def create_status_table(client: CatalogClient, directory: Path) -> DataFrame:\n",
    "    status_table = client.get_table(name=STATUS_TABLE_NAME)\n",
    "    if status_table is not None:\n",
    "        return status_table\n",
    "    \n",
    "    schema = pa.schema([\n",
    "        (\"rerun_partition_id\", pa.utf8()),\n",
    "        (\"is_complete\", pa.bool_()),\n",
    "        (\"update_time\", pa.timestamp(unit=\"ms\")),\n",
    "    ])\n",
    "    url = f\"file://{directory}/{STATUS_TABLE_NAME}\"\n",
    "\n",
    "    client.create_table(STATUS_TABLE_NAME, schema, url)\n",
    "    return client.get_table(STATUS_TABLE_NAME)"
   ]
  },
  {
   "cell_type": "code",
   "execution_count": 72,
   "id": "02bffdb0-c470-4470-8302-e3f16f3c60f3",
   "metadata": {},
   "outputs": [],
   "source": [
    "def find_missing_partitions(\n",
    "    partition_table: DataFrame,\n",
    "    status_table: DataFrame\n",
    ") -> List[str]:\n",
    "    status_table = status_table.filter(col(\"is_complete\") == True)\n",
    "    partitions = partition_table.join(status_table, on=\"rerun_partition_id\", how=\"anti\").collect()\n",
    "    return [r for rss in partitions for rs in rss for r in rs]"
   ]
  },
  {
   "cell_type": "code",
   "execution_count": 73,
   "id": "dcbd4a67-ff8a-4df7-bd16-a24c68b36920",
   "metadata": {},
   "outputs": [],
   "source": [
    "def process_partitions(client: ConnectionClient, dataset, partition_list: list[pa.ScalarValue]) -> None:\n",
    "    client.append_to_table(\n",
    "        STATUS_TABLE_NAME,\n",
    "        rerun_partition_id=partition_list,\n",
    "        is_complete=[False] * len(partition_list),\n",
    "        update_time = [datetime.now()] * len(partition_list)\n",
    "    )\n",
    "    \n",
    "    pass"
   ]
  },
  {
   "cell_type": "code",
   "execution_count": 74,
   "id": "98997083-0a57-49b3-b010-4095549dc647",
   "metadata": {},
   "outputs": [
    {
     "name": "stdout",
     "output_type": "stream",
     "text": [
      "20 of 20 partitions have not processed.\n"
     ]
    },
    {
     "data": {
      "text/html": [
       "\n",
       "            <div style=\"width: 100%;   overflow: auto; border: 1px solid #ccc;\">\n",
       "            <style>\n",
       "            .rerun-table.rerun-table table {\n",
       "                border-collapse: collapse;\n",
       "                min-width: 100%;\n",
       "                text-align: left;\n",
       "            }\n",
       "\n",
       "            .rerun-table.rerun-table th {\n",
       "                font-weight: normal;\n",
       "                text-align: left;\n",
       "            }\n",
       "\n",
       "            .rerun-table.rerun-table td {\n",
       "                text-align: left;\n",
       "            }\n",
       "            </style>\n",
       "            <table class=\"rerun-table\">\n",
       "            \n",
       "<thead><tr><th><strong>rerun_partition_id</strong><br>nullable Utf8</th><th><strong>is_complete</strong><br>nullable bool</th><th><strong>update_time</strong><br>nullable Timestamp(ms)</th></tr></thead>\n",
       "<tbody\n",
       "<tr><td>c6cd54d01c754c0ba09d4df884f03a55</td><td>false</td><td>2025-10-28T12:41:24.560</td></tr>\n",
       "\n",
       "<tr><td>dd8e3c0842bd4f27a0fe43102f977bfb</td><td>false</td><td>2025-10-28T12:41:24.560</td></tr>\n",
       "\n",
       "<tr><td>0cd72aae349f46bc97540d144582ff15</td><td>false</td><td>2025-10-28T12:41:24.560</td></tr>\n",
       "\n",
       "<tr><td>0ecb21a1dc734dc7846834b6a6005682</td><td>false</td><td>2025-10-28T12:43:04.545</td></tr>\n",
       "\n",
       "<tr><td>47bf5e214d55404cbec63d449ec3f99b</td><td>false</td><td>2025-10-28T12:43:04.545</td></tr>\n",
       "\n",
       "<tr><td>7c4bee83b3ea430cb47cdac05c49ef47</td><td>false</td><td>2025-10-28T12:43:04.545</td></tr>\n",
       "\n",
       "<tr><td>8caa161ef9864200b1f6e64a8bdeba4f</td><td>false</td><td>2025-10-28T12:43:25.870</td></tr>\n",
       "\n",
       "<tr><td>6a8bab9ca20e4aef9c51bfba51bc74b2</td><td>false</td><td>2025-10-28T12:43:25.870</td></tr>\n",
       "\n",
       "<tr><td>ab792f96cedd4e21898ebc55df8b9bed</td><td>false</td><td>2025-10-28T12:43:25.870</td></tr>\n",
       "\n",
       "</tbody>\n",
       "\n",
       "        </table>\n",
       "        </div>\n",
       "        "
      ],
      "text/plain": [
       "┌──────────────────────────────────┬─────────────────────┬──────────────────────────────┐\n",
       "│ rerun_partition_id               ┆ is_complete         ┆ update_time                  │\n",
       "│ ---                              ┆ ---                 ┆ ---                          │\n",
       "│ type: nullable Utf8              ┆ type: nullable bool ┆ type: nullable Timestamp(ms) │\n",
       "╞══════════════════════════════════╪═════════════════════╪══════════════════════════════╡\n",
       "│ c6cd54d01c754c0ba09d4df884f03a55 ┆ false               ┆ 2025-10-28T12:41:24.560      │\n",
       "├╌╌╌╌╌╌╌╌╌╌╌╌╌╌╌╌╌╌╌╌╌╌╌╌╌╌╌╌╌╌╌╌╌╌┼╌╌╌╌╌╌╌╌╌╌╌╌╌╌╌╌╌╌╌╌╌┼╌╌╌╌╌╌╌╌╌╌╌╌╌╌╌╌╌╌╌╌╌╌╌╌╌╌╌╌╌╌┤\n",
       "│ dd8e3c0842bd4f27a0fe43102f977bfb ┆ false               ┆ 2025-10-28T12:41:24.560      │\n",
       "├╌╌╌╌╌╌╌╌╌╌╌╌╌╌╌╌╌╌╌╌╌╌╌╌╌╌╌╌╌╌╌╌╌╌┼╌╌╌╌╌╌╌╌╌╌╌╌╌╌╌╌╌╌╌╌╌┼╌╌╌╌╌╌╌╌╌╌╌╌╌╌╌╌╌╌╌╌╌╌╌╌╌╌╌╌╌╌┤\n",
       "│ 0cd72aae349f46bc97540d144582ff15 ┆ false               ┆ 2025-10-28T12:41:24.560      │\n",
       "└──────────────────────────────────┴─────────────────────┴──────────────────────────────┘\n",
       "┌──────────────────────────────────┬─────────────────────┬──────────────────────────────┐\n",
       "│ rerun_partition_id               ┆ is_complete         ┆ update_time                  │\n",
       "│ ---                              ┆ ---                 ┆ ---                          │\n",
       "│ type: nullable Utf8              ┆ type: nullable bool ┆ type: nullable Timestamp(ms) │\n",
       "╞══════════════════════════════════╪═════════════════════╪══════════════════════════════╡\n",
       "│ 0ecb21a1dc734dc7846834b6a6005682 ┆ false               ┆ 2025-10-28T12:43:04.545      │\n",
       "├╌╌╌╌╌╌╌╌╌╌╌╌╌╌╌╌╌╌╌╌╌╌╌╌╌╌╌╌╌╌╌╌╌╌┼╌╌╌╌╌╌╌╌╌╌╌╌╌╌╌╌╌╌╌╌╌┼╌╌╌╌╌╌╌╌╌╌╌╌╌╌╌╌╌╌╌╌╌╌╌╌╌╌╌╌╌╌┤\n",
       "│ 47bf5e214d55404cbec63d449ec3f99b ┆ false               ┆ 2025-10-28T12:43:04.545      │\n",
       "├╌╌╌╌╌╌╌╌╌╌╌╌╌╌╌╌╌╌╌╌╌╌╌╌╌╌╌╌╌╌╌╌╌╌┼╌╌╌╌╌╌╌╌╌╌╌╌╌╌╌╌╌╌╌╌╌┼╌╌╌╌╌╌╌╌╌╌╌╌╌╌╌╌╌╌╌╌╌╌╌╌╌╌╌╌╌╌┤\n",
       "│ 7c4bee83b3ea430cb47cdac05c49ef47 ┆ false               ┆ 2025-10-28T12:43:04.545      │\n",
       "└──────────────────────────────────┴─────────────────────┴──────────────────────────────┘\n",
       "┌──────────────────────────────────┬─────────────────────┬──────────────────────────────┐\n",
       "│ rerun_partition_id               ┆ is_complete         ┆ update_time                  │\n",
       "│ ---                              ┆ ---                 ┆ ---                          │\n",
       "│ type: nullable Utf8              ┆ type: nullable bool ┆ type: nullable Timestamp(ms) │\n",
       "╞══════════════════════════════════╪═════════════════════╪══════════════════════════════╡\n",
       "│ 8caa161ef9864200b1f6e64a8bdeba4f ┆ false               ┆ 2025-10-28T12:43:25.870      │\n",
       "├╌╌╌╌╌╌╌╌╌╌╌╌╌╌╌╌╌╌╌╌╌╌╌╌╌╌╌╌╌╌╌╌╌╌┼╌╌╌╌╌╌╌╌╌╌╌╌╌╌╌╌╌╌╌╌╌┼╌╌╌╌╌╌╌╌╌╌╌╌╌╌╌╌╌╌╌╌╌╌╌╌╌╌╌╌╌╌┤\n",
       "│ 6a8bab9ca20e4aef9c51bfba51bc74b2 ┆ false               ┆ 2025-10-28T12:43:25.870      │\n",
       "├╌╌╌╌╌╌╌╌╌╌╌╌╌╌╌╌╌╌╌╌╌╌╌╌╌╌╌╌╌╌╌╌╌╌┼╌╌╌╌╌╌╌╌╌╌╌╌╌╌╌╌╌╌╌╌╌┼╌╌╌╌╌╌╌╌╌╌╌╌╌╌╌╌╌╌╌╌╌╌╌╌╌╌╌╌╌╌┤\n",
       "│ ab792f96cedd4e21898ebc55df8b9bed ┆ false               ┆ 2025-10-28T12:43:25.870      │\n",
       "└──────────────────────────────────┴─────────────────────┴──────────────────────────────┘"
      ]
     },
     "metadata": {},
     "output_type": "display_data"
    }
   ],
   "source": [
    "\n",
    "with tempfile.TemporaryDirectory() as temp_dir:\n",
    "    temp_path = Path(temp_dir)\n",
    "    \n",
    "    client = CatalogClient(CATALOG_URL)\n",
    "    dataset = client.get_dataset(name=DATASET_NAME)\n",
    "    \n",
    "    status_table = create_status_table(client, temp_path)\n",
    "\n",
    "    # TODO(tsaucer) replace with partition table query\n",
    "    partition_table = dataset.dataframe_query_view(index=\"time_1\", contents=\"/**\").df().select(\"rerun_partition_id\").distinct()\n",
    "\n",
    "    missing_partitions = find_missing_partitions(partition_table, status_table)\n",
    "    print(f\"{len(missing_partitions)} of {partition_table.count()} partitions have not processed.\")\n",
    "    display(status_table)\n",
    "\n",
    "    process_partitions(client, dataset, missing_partitions[0:3])"
   ]
  },
  {
   "cell_type": "code",
   "execution_count": 55,
   "id": "9583a12c-e267-4e1e-ab1c-fa08801036b2",
   "metadata": {},
   "outputs": [
    {
     "data": {
      "text/plain": [
       "datetime.datetime(2025, 10, 28, 12, 40, 21, 40470)"
      ]
     },
     "execution_count": 55,
     "metadata": {},
     "output_type": "execute_result"
    }
   ],
   "source": [
    "datetime.now()"
   ]
  },
  {
   "cell_type": "code",
   "execution_count": null,
   "id": "e68153c4-db0e-4d48-839b-c654e985420d",
   "metadata": {},
   "outputs": [],
   "source": []
  }
 ],
 "metadata": {
  "kernelspec": {
   "display_name": "Python 3 (ipykernel)",
   "language": "python",
   "name": "python3"
  },
  "language_info": {
   "codemirror_mode": {
    "name": "ipython",
    "version": 3
   },
   "file_extension": ".py",
   "mimetype": "text/x-python",
   "name": "python",
   "nbconvert_exporter": "python",
   "pygments_lexer": "ipython3",
   "version": "3.11.13"
  }
 },
 "nbformat": 4,
 "nbformat_minor": 5
}
