{
 "cells": [
  {
   "cell_type": "markdown",
   "id": "2da38bd6-15d8-4725-8ae9-4b237aa5773c",
   "metadata": {},
   "source": [
    "# Convert a Depth Image to a Point Cloud\n",
    "\n",
    "This example takes as an input a rrd with depth image data and uses\n",
    "the Rerun DataFusion provided functions to create point cloud data."
   ]
  },
  {
   "cell_type": "code",
   "execution_count": null,
   "id": "05010b5f-77e4-4aab-905e-438c05f71e6a",
   "metadata": {},
   "outputs": [],
   "source": [
    "from __future__ import annotations\n",
    "\n",
    "import pyarrow as pa\n",
    "import rerun as rr\n",
    "from rerun.utilities.datafusion.functions.points3d import convert_depth_image_to_point_cloud_by_path\n",
    "from rerun.utilities.datafusion.functions.columns import duplicate_components\n",
    "from datafusion import SessionContext"
   ]
  },
  {
   "cell_type": "code",
   "execution_count": null,
   "id": "37d54027-025c-45e2-94df-1bc465e80e4f",
   "metadata": {},
   "outputs": [],
   "source": [
    "# In this example, you will need a copy of the rrd from the `arkit_demo`.\n",
    "# Update the file path below accordingly.\n",
    "\n",
    "original_recording = rr.dataframe.load_recording(\"../../../tests/assets/rrd/examples/arkit_scenes.rrd\")"
   ]
  },
  {
   "cell_type": "code",
   "execution_count": null,
   "id": "4cd7b06c-b6e5-45dd-84c1-ca182fbd6d92",
   "metadata": {},
   "outputs": [],
   "source": [
    "# In order to turn this into a DataFusion DataFrame, we need to create a view\n",
    "# that includes our `latest_at` specification. Otherwise the data for the Pinhole\n",
    "# and the data for the DepthImage will be misaligned.\n",
    "\n",
    "original_recording_view = (\n",
    "    original_recording\n",
    "    .view(index=\"log_time\", contents=\"/world/camera_lowres/**\", include_indicator_columns=True)\n",
    "    .fill_latest_at()\n",
    ")"
   ]
  },
  {
   "cell_type": "code",
   "execution_count": null,
   "id": "fc80583a-27f1-415a-98ad-e55b539c24b2",
   "metadata": {},
   "outputs": [],
   "source": [
    "# Create the DataFusion context and DataFrame from record batches provided\n",
    "# by the view above.\n",
    "\n",
    "ctx = SessionContext()\n",
    "df = ctx.create_dataframe([list(original_recording_view.select())])"
   ]
  },
  {
   "cell_type": "code",
   "execution_count": null,
   "id": "2c5707de-eae5-47e7-b63c-5e0817460d9f",
   "metadata": {},
   "outputs": [],
   "source": [
    "# This code section calls two functions. The first, `convert_depth_image_to_point_cloud`\n",
    "# does the bulk of the calculation. The second copies over the transform components of\n",
    "# the original camera data.\n",
    "\n",
    "df_result = (\n",
    "    df\n",
    "    .transform(\n",
    "        convert_depth_image_to_point_cloud_by_path,\n",
    "        \"/world/camera_lowres/depth\",\n",
    "        \"/world/camera_lowres\",\n",
    "        \"/world/point_cloud\"\n",
    "    )\n",
    "    .transform(\n",
    "        duplicate_components,\n",
    "        \"/world/camera_lowres\",\n",
    "        \"/world/point_cloud\",\n",
    "        [\"Translation3D\", \"RotationQuat\", \"Transform3DIndicator\", \"TransformRelation\"]\n",
    "    )\n",
    ")"
   ]
  },
  {
   "cell_type": "code",
   "execution_count": null,
   "id": "3bb0ec58-1e57-455f-817e-7b05e1858fd6",
   "metadata": {},
   "outputs": [],
   "source": [
    "# To visualize the results, create a recording stream\n",
    "\n",
    "local_rec = rr.RecordingStream(\"depth_image_to_pt_cloud\")\n",
    "local_rec.spawn()"
   ]
  },
  {
   "cell_type": "code",
   "execution_count": null,
   "id": "13b23b9a-b960-4aac-8b92-99832d27d572",
   "metadata": {},
   "outputs": [],
   "source": [
    "# Send the original data so we can overlay on it\n",
    "\n",
    "local_rec.send_recording(original_recording)"
   ]
  },
  {
   "cell_type": "code",
   "execution_count": null,
   "id": "f714d47f-d2bc-4ba4-b0f9-3f061b4f5795",
   "metadata": {},
   "outputs": [],
   "source": [
    "# Convert the DataFusion DataFrame into a pyarrow Table and send it to the viewer\n",
    "\n",
    "table_result = pa.table(df_result)\n",
    "rr.dataframe.send_dataframe(table_result, rec=local_rec)"
   ]
  },
  {
   "cell_type": "code",
   "execution_count": null,
   "id": "982ddedc-1bb7-4564-bfdb-5418a55c7191",
   "metadata": {},
   "outputs": [],
   "source": []
  }
 ],
 "metadata": {
  "kernelspec": {
   "display_name": "Python 3 (ipykernel)",
   "language": "python",
   "name": "python3"
  },
  "language_info": {
   "codemirror_mode": {
    "name": "ipython",
    "version": 3
   },
   "file_extension": ".py",
   "mimetype": "text/x-python",
   "name": "python",
   "nbconvert_exporter": "python",
   "pygments_lexer": "ipython3",
   "version": "3.11.10"
  }
 },
 "nbformat": 4,
 "nbformat_minor": 5
}
