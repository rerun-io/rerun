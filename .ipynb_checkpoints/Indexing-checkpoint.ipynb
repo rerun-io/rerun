{
 "cells": [
  {
   "cell_type": "code",
   "execution_count": null,
   "id": "d647891f-261e-4cc9-a7de-1c05b24f2ca6",
   "metadata": {},
   "outputs": [],
   "source": [
    "import os\n",
    "os.environ[\"RERUN_NOTEBOOK_ASSET\"] = \"inline\""
   ]
  },
  {
   "cell_type": "code",
   "execution_count": null,
   "id": "c7ac4b39-cb05-47bf-a2ed-3bb02ad608e0",
   "metadata": {},
   "outputs": [],
   "source": [
    "from __future__ import annotations\n",
    "\n",
    "import rerun as rr\n",
    "import sys\n",
    "import torch\n",
    "import uuid\n",
    "import pyarrow as pa\n",
    "\n",
    "from transformers import CLIPTokenizer, CLIPModel"
   ]
  },
  {
   "cell_type": "code",
   "execution_count": null,
   "id": "d4898f00-9e9f-450d-a589-260aa48fd1d7",
   "metadata": {},
   "outputs": [],
   "source": [
    "# Load CLIP tokenizer\n",
    "tokenizer = CLIPTokenizer.from_pretrained(\"openai/clip-vit-base-patch32\")\n",
    "model = CLIPModel.from_pretrained(\"openai/clip-vit-base-patch32\").to(\"cuda\")"
   ]
  },
  {
   "cell_type": "code",
   "execution_count": null,
   "id": "361fe4cb-456f-4c8d-b38e-649f71b9527a",
   "metadata": {},
   "outputs": [],
   "source": [
    "dataset = {\n",
    "    \"ep1\": [\n",
    "        \"The swift fox leaps over the calm river.\",\n",
    "        \"Rainbows dance after the gentle rain.\",\n",
    "        \"Midnight jazz echoes through the quiet alley.\",\n",
    "        \"An old lamp flickers in the dusty attic.\",\n",
    "        \"A silver plane soars above cotton-candy clouds.\",\n",
    "        \"Neon lights dazzle in the bustling cityscape.\",\n",
    "        \"A lost kitten meows outside the warm bakery.\",\n",
    "        \"Pastel petals flutter in the morning breeze.\",\n",
    "        \"Golden wheat sways under a cobalt sky.\",\n",
    "        \"A chessboard sits abandoned on the old table.\",\n",
    "        \"The aroma of coffee fills the tiny café.\",\n",
    "        \"Two robots gently shake hands under the moonlight.\",\n",
    "        \"A lonely violinist plays in the park at dusk.\",\n",
    "        \"A stack of vintage postcards lies in a drawer.\",\n",
    "        \"The library clock chimes exactly at noon.\",\n",
    "    ],\n",
    "    \"ep2\": [\n",
    "        \"A curious owl hoots near a glowing streetlamp.\",\n",
    "        \"Cracked pavement lines the abandoned roller rink.\",\n",
    "        \"Bright lanterns illuminate the narrow garden path.\",\n",
    "        \"Waves crash gently on the sandy shoreline at dusk.\",\n",
    "        \"An antique clock ticks quietly in the corner shop.\",\n",
    "        \"Butterflies dance above the fragrant lavender fields.\",\n",
    "        \"Rainbow confetti rains down during the lively parade.\",\n",
    "        \"A solitary scarecrow watches the endless horizon.\",\n",
    "        \"Glassy skyscrapers mirror the afternoon sunlight.\",\n",
    "        \"A worn-out wooden sign points to a hidden trail.\",\n",
    "        \"Dust motes swirl in the old bookshop’s golden light.\",\n",
    "        \"Children laugh as they race paper boats in puddles.\",\n",
    "        \"Steam rises from a fresh loaf in the rustic bakery.\",\n",
    "        \"A jazz quartet rehearses in a forgotten theater.\",\n",
    "        \"Fluffy sheep graze along the misty rolling hills.\",\n",
    "    ]\n",
    "}"
   ]
  },
  {
   "cell_type": "code",
   "execution_count": null,
   "id": "79788f80-9432-4fbf-b149-14e91050c03d",
   "metadata": {},
   "outputs": [],
   "source": [
    "conn = rr.remote.connect(\"http://0.0.0.0:51234\")\n",
    "\n",
    "for ep, phrases in dataset.items():\n",
    "    storage_path = f\"/tmp/{ep}.rrd\"\n",
    "    rec = rr.new_recording(\"rerun_example_test_recording\", recording_id=uuid.uuid4())\n",
    "\n",
    "    inputs = tokenizer(\n",
    "        phrases,\n",
    "        padding=True,\n",
    "        truncation=True,\n",
    "        return_tensors=\"pt\",\n",
    "    ).to(\"cuda\")\n",
    "\n",
    "    with torch.no_grad():\n",
    "        outputs = model.get_text_features(**inputs).cpu().numpy()\n",
    "\n",
    "    for i, phrase in enumerate(phrases):\n",
    "        rec.set_time_sequence(\"index\", i)\n",
    "        rec.log(\"words\", rr.TextLog(phrase))\n",
    "        rec.log(\"words\", rr.AnyValues(embeddings=outputs[i]))\n",
    "\n",
    "    rec.save(storage_path)\n",
    "    conn.register(f\"file://{storage_path}\", metadata=pa.RecordBatch.from_arrays([pa.array([ep])], names=[\"episode\"]))"
   ]
  },
  {
   "cell_type": "code",
   "execution_count": null,
   "id": "c57a76cf-1fff-4d23-90f5-f70c8aaaf510",
   "metadata": {},
   "outputs": [],
   "source": [
    "conn.create_fts_index(\n",
    "    collection=\"default\",\n",
    "    column=rr.dataframe.ComponentColumnSelector(\"/words\", rr.components.Text),\n",
    "    time_index=rr.dataframe.IndexColumnSelector(\"index\"),\n",
    "    store_position=False,\n",
    "    base_tokenizer=\"simple\",\n",
    ")"
   ]
  },
  {
   "cell_type": "code",
   "execution_count": null,
   "id": "194a2ca3-9f59-4b61-9c2f-76ecca42e9b9",
   "metadata": {},
   "outputs": [],
   "source": [
    "# TODO(jleibs): Wrapping query params in a record-batch is annoying. Python APIs should do this for us.\n",
    "search_result = conn.query_fts_index(\n",
    "    collection=\"default\",\n",
    "    column=rr.dataframe.ComponentColumnSelector(\"/words\", rr.components.Text),\n",
    "    query=pa.RecordBatch.from_arrays([pa.array([\"coffee\"])], names=[\"item\"]),\n",
    ").read_all()"
   ]
  },
  {
   "cell_type": "code",
   "execution_count": null,
   "id": "0dd6dba7-cefe-4988-83f0-502bafa06364",
   "metadata": {},
   "outputs": [],
   "source": [
    "search_result"
   ]
  },
  {
   "cell_type": "code",
   "execution_count": null,
   "id": "81ebdfe6-1377-4d6e-86c0-5f2c22c6fc51",
   "metadata": {},
   "outputs": [],
   "source": [
    "# Load the recording\n",
    "rec = conn.open_recording(search_result[0][0].as_py())\n",
    "view = rec.view(index=\"index\", contents=\"/words\", include_indicator_columns=True).select()\n",
    "\n",
    "# Display it in the notebook\n",
    "rr.init(\"episode\")\n",
    "rr.dataframe.send_dataframe(view)\n",
    "viewer = rr.notebook.Viewer(width=1024)\n",
    "viewer.display()\n",
    "\n",
    "# Jump to the timepoint from the search results\n",
    "viewer.set_time_ctrl(timeline=\"index\", sequence=search_result[2][0].as_py())"
   ]
  },
  {
   "cell_type": "code",
   "execution_count": null,
   "id": "b2763c9e-091c-4b69-b2a0-b19e1d579164",
   "metadata": {},
   "outputs": [],
   "source": [
    "def search_for(text):\n",
    "    search_result = conn.query_fts_index(\n",
    "        collection=\"default\",\n",
    "        column=rr.dataframe.ComponentColumnSelector(\"/words\", rr.components.Text),\n",
    "        query=pa.RecordBatch.from_arrays([pa.array([text])], names=[\"item\"]),\n",
    "    ).read_all()\n",
    "\n",
    "    if len(search_result) > 0:\n",
    "        viewer.set_time_ctrl(timeline=\"index\", sequence=search_result[2][0].as_py())\n",
    "    else:\n",
    "        print(\"No match found\")"
   ]
  },
  {
   "cell_type": "code",
   "execution_count": null,
   "id": "a992c32c-692e-4cd9-a140-3043a9a0aa6e",
   "metadata": {},
   "outputs": [],
   "source": [
    "search_for(\"neon\")"
   ]
  },
  {
   "cell_type": "code",
   "execution_count": null,
   "id": "752e393f-125c-4c93-9592-c3197aeb1a9c",
   "metadata": {},
   "outputs": [],
   "source": [
    "search_for(\"petals\")"
   ]
  },
  {
   "cell_type": "code",
   "execution_count": null,
   "id": "c468330b-566f-4d12-a1d1-c8c59f2b1d20",
   "metadata": {},
   "outputs": [],
   "source": [
    "search_for(\"library\")"
   ]
  },
  {
   "cell_type": "code",
   "execution_count": null,
   "id": "1fb65d54-b36c-4b0e-9d02-df1ef29cb6a3",
   "metadata": {},
   "outputs": [],
   "source": [
    "# TODO(jleibs): Something went wrong with indexing the first time-point -- off-by-1 somewhere?\n",
    "search_for(\"fox\")"
   ]
  },
  {
   "cell_type": "code",
   "execution_count": null,
   "id": "369946dc-6006-463c-8050-65da6e3f1e9a",
   "metadata": {},
   "outputs": [],
   "source": [
    "# Need to debug -- looks like something incorrect with list-array-unwrapping\n",
    "conn.create_vector_index(\n",
    "    collection=\"default\",\n",
    "    column=rr.dataframe.ComponentColumnSelector(\"/words\", \"embeddings\"),\n",
    "    time_index=rr.dataframe.IndexColumnSelector(\"index\"),\n",
    "    num_partitions=5,\n",
    "    num_sub_vectors=16,\n",
    "    distance_metric=\"L2\",\n",
    ")"
   ]
  },
  {
   "cell_type": "code",
   "execution_count": null,
   "id": "c52a4019-1581-4c76-8e41-93e4e5f4ae29",
   "metadata": {},
   "outputs": [],
   "source": []
  }
 ],
 "metadata": {
  "kernelspec": {
   "display_name": "Python 3 (ipykernel)",
   "language": "python",
   "name": "python3"
  },
  "language_info": {
   "codemirror_mode": {
    "name": "ipython",
    "version": 3
   },
   "file_extension": ".py",
   "mimetype": "text/x-python",
   "name": "python",
   "nbconvert_exporter": "python",
   "pygments_lexer": "ipython3",
   "version": "3.11.10"
  }
 },
 "nbformat": 4,
 "nbformat_minor": 5
}
