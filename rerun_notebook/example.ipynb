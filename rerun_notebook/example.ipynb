{
 "cells": [
  {
   "cell_type": "code",
   "execution_count": 1,
   "metadata": {},
   "outputs": [
    {
     "name": "stdout",
     "output_type": "stream",
     "text": [
      "env: RERUN_NOTEBOOK_ASSET=serve-local\n"
     ]
    }
   ],
   "source": [
    "%env RERUN_NOTEBOOK_ASSET=serve-local"
   ]
  },
  {
   "cell_type": "code",
   "execution_count": null,
   "metadata": {},
   "outputs": [],
   "source": [
    "from __future__ import annotations\n",
    "\n",
    "import ipywidgets as widgets\n",
    "from IPython.display import display\n",
    "\n",
    "# Create the text input widget\n",
    "text_input = widgets.Text(value=\"\", placeholder=\"Type something here\", description=\"Input:\", disabled=False)\n",
    "\n",
    "# Create the button widget\n",
    "button = widgets.Button(\n",
    "    description=\"Print Input\",\n",
    "    disabled=False,\n",
    "    button_style=\"\",  # 'success', 'info', 'warning', 'danger' or ''\n",
    "    tooltip=\"Click to print input\",\n",
    "    icon=\"check\",\n",
    ")\n",
    "\n",
    "# Create an output widget to display the results\n",
    "output = widgets.Output()\n",
    "\n",
    "\n",
    "# Define the button click event handler\n",
    "def on_button_clicked(b):\n",
    "    with output:\n",
    "        # Clear previous output\n",
    "        output.clear_output()\n",
    "        # Print the current value of the text input\n",
    "        print(f\"You entered: {text_input.value}\")\n",
    "\n",
    "\n",
    "# Connect the button click event to the handler function\n",
    "button.on_click(on_button_clicked)\n",
    "\n",
    "\n",
    "from rerun_notebook import Viewer, ViewerCallbacks, SelectionItem\n",
    "\n",
    "viewer = Viewer(\n",
    "    url=\"https://app.rerun.io/version/nightly/examples/raw_mesh.rrd\",\n",
    "    panel_states={\n",
    "        \"blueprint\": \"hidden\",\n",
    "        \"selection\": \"expanded\",\n",
    "        \"time\": \"collapsed\",\n",
    "    },\n",
    ")\n",
    "\n",
    "\n",
    "class AnnotationCallbackHandler(ViewerCallbacks):\n",
    "    def on_selection_change(self, selection):\n",
    "        pass\n",
    "\n",
    "\n",
    "viewer.register_callbacks(AnnotationCallbackHandler())\n",
    "\n",
    "# Display all widgets\n",
    "display(viewer)\n",
    "display(text_input)\n",
    "display(button)\n",
    "display(output)"
   ]
  },
  {
   "cell_type": "code",
   "execution_count": 2,
   "metadata": {},
   "outputs": [
    {
     "name": "stderr",
     "output_type": "stream",
     "text": [
      "DEV ENVIRONMENT DETECTED! Re-importing rerun from: /Users/gijsd/rerun/rerun/rerun_py/rerun_sdk\n"
     ]
    },
    {
     "name": "stdout",
     "output_type": "stream",
     "text": [
      "Serving rerun notebook assets at http://127.0.0.1:56908\n",
      "import failed:  cannot import name 'StorageNodeClient' from 'rerun_bindings' (/Users/gijsd/rerun/rerun/rerun_py/rerun_bindings/__init__.py)\n"
     ]
    },
    {
     "name": "stderr",
     "output_type": "stream",
     "text": [
      "[2025-02-28T08:54:12Z DEBUG re_chunk::batcher] creating new chunk batcher config=ChunkBatcherConfig { flush_tick: 8ms, flush_num_bytes: 1048576, flush_num_rows: 18446744073709551615, chunk_max_rows_if_unsorted: 256, max_commands_in_flight: None, max_chunks_in_flight: None, hooks: BatcherHooks { on_insert: None, on_release: Some(ArrowRecordBatchReleaseCallback(\"0x50c76020220\")) } }\n",
      "[2025-02-28T08:54:12Z DEBUG re_sdk::recording_stream] setting recording info app_id=\"/Users/gijsd/rerun/taco_play\" rec_id=episode_0\n",
      "[2025-02-28T08:54:12Z DEBUG re_sdk::recording_stream] setting recording info app_id=\"/Users/gijsd/rerun/taco_play\" rec_id=episode_0\n"
     ]
    }
   ],
   "source": [
    "import ipywidgets as widgets\n",
    "from IPython.display import display\n",
    "import datetime\n",
    "import math\n",
    "\n",
    "import rerun as rr\n",
    "from rerun.notebook import Viewer, ViewerCallbacks, SelectionItem\n",
    "\n",
    "\n",
    "rr.init(\"\\\"/Users/gijsd/rerun/taco_play\\\"\", recording_id=\"episode_0\")\n",
    "\n",
    "viewer = Viewer(width=960, height=720)\n",
    "\n",
    "class RecordingMarker(ViewerCallbacks):\n",
    "    def __init__(self, viewer):\n",
    "        self.viewer = viewer\n",
    "        self.markers = []\n",
    "        self.timeline = \"log_tick\"\n",
    "        self.time = 0\n",
    "        self.entity_path = \"\"\n",
    "\n",
    "        # Create widgets\n",
    "        self.timestamp_button = widgets.Button(\n",
    "            description=\"Add Timestamp\", button_style=\"primary\", tooltip=\"Mark current position in the recording\"\n",
    "        )\n",
    "\n",
    "        self.comment_text = widgets.Text(\n",
    "            placeholder=\"Optional comment\", description=\"Comment:\", style={\"description_width\": \"initial\"}\n",
    "        )\n",
    "\n",
    "        self.markers_output = widgets.Output(\n",
    "            layout={\n",
    "                \"border\": \"1px solid #ddd\",\n",
    "                \"padding\": \"10px\",\n",
    "                \"margin\": \"10px 0px\",\n",
    "                \"max_height\": \"300px\",\n",
    "                \"overflow\": \"auto\",\n",
    "                \"color\": \"white\"\n",
    "            }\n",
    "        )\n",
    "\n",
    "        self.status_output = widgets.Output(layout={\"margin\": \"5px 0px\"})\n",
    "\n",
    "        # Set up button callback\n",
    "        self.timestamp_button.on_click(self.add_marker)\n",
    "\n",
    "        # Create layout\n",
    "        self.widget = widgets.VBox([\n",
    "            # widgets.HTML(f\"{self.timeline}: {self.time}\"),\n",
    "            widgets.HBox([self.timestamp_button, self.comment_text]),\n",
    "            self.markers_output,\n",
    "            self.status_output,\n",
    "        ])\n",
    "\n",
    "    def on_time_update(self, time: float):\n",
    "        self.time = math.floor(time)\n",
    "\n",
    "    def on_timeline_change(self, timeline: str, time: float):\n",
    "        self.timeline = timeline\n",
    "        self.time = math.floor(time)\n",
    "\n",
    "    def on_selection_change(self, selection: list[SelectionItem]):\n",
    "        for s in selection:\n",
    "            if s.kind == \"entity_path\":\n",
    "                self.entity_path = s.entity_path\n",
    "\n",
    "\n",
    "    def add_marker(self, button):\n",
    "        \"\"\"Add a new timestamp marker with optional comment.\"\"\"\n",
    "        comment = self.comment_text.value.strip()\n",
    "\n",
    "        rr.set_time_sequence(self.timeline, self.time)\n",
    "        rr.log(self.entity_path, rr.AnyValues(marker=(), comment=comment))\n",
    "\n",
    "        with self.status_output:\n",
    "            self.status_output.clear_output()\n",
    "            print(f\"✓ Marker added at {self.time}\")\n",
    "        self.comment_text.value = \"\"\n",
    "\n",
    "    def display(self):\n",
    "        \"\"\"Display the widget.\"\"\"\n",
    "        display(self.widget)\n",
    "\n"
   ]
  },
  {
   "cell_type": "code",
   "execution_count": 3,
   "metadata": {},
   "outputs": [
    {
     "data": {
      "application/vnd.jupyter.widget-view+json": {
       "model_id": "006ed59772714eeabc986637a155d0c9",
       "version_major": 2,
       "version_minor": 1
      },
      "text/plain": [
       "Viewer()"
      ]
     },
     "metadata": {},
     "output_type": "display_data"
    },
    {
     "data": {
      "application/vnd.jupyter.widget-view+json": {
       "model_id": "21550f025a674909a26dd4255052ee94",
       "version_major": 2,
       "version_minor": 0
      },
      "text/plain": [
       "VBox(children=(HBox(children=(Button(button_style='primary', description='Add Timestamp', style=ButtonStyle(),…"
      ]
     },
     "metadata": {},
     "output_type": "display_data"
    }
   ],
   "source": [
    "marker = RecordingMarker(viewer)\n",
    "viewer.register_callbacks(marker)\n",
    "\n",
    "display(viewer)\n",
    "marker.display()"
   ]
  },
  {
   "cell_type": "code",
   "execution_count": 4,
   "metadata": {},
   "outputs": [
    {
     "name": "stderr",
     "output_type": "stream",
     "text": [
      "[2025-02-28T08:54:17Z INFO  re_data_loader::load_file] Loading \"/Users/gijsd/rerun/taco_play_episide0.rrd\"…\n",
      "[2025-02-28T08:54:17Z DEBUG re_data_loader::loader_rrd] Loading rrd data from filesystem… filepath=\"/Users/gijsd/rerun/taco_play_episide0.rrd\" loader=\"rerun.data_loaders.Rrd\"\n",
      "[2025-02-28T08:54:17Z DEBUG re_data_loader::load_file] compatible loader found loader=\"rerun.data_loaders.Rrd\" path=\"/Users/gijsd/rerun/taco_play_episide0.rrd\"\n",
      "[2025-02-28T08:54:17Z DEBUG re_log_encoding::decoder] Reached end of stream, iterator complete\n"
     ]
    }
   ],
   "source": [
    "rr.log_file_from_path(\"/Users/gijsd/rerun/taco_play_episide0.rrd\")\n",
    "# rr.log_file_from_path(\"/Users/gijsd/rerun/rerun_imu_signals_example.png\")\n",
    "# rr.log(\"hello\", rr.TextLog(\"hey\"))"
   ]
  },
  {
   "cell_type": "code",
   "execution_count": 8,
   "metadata": {},
   "outputs": [
    {
     "name": "stderr",
     "output_type": "stream",
     "text": [
      "[2025-02-28T08:56:28Z DEBUG re_log_encoding::file_sink] Saving file to \"annotated_rrd.rrd\"…\n",
      "[2025-02-28T08:56:28Z DEBUG re_sdk::recording_stream] setting recording info app_id=\"/Users/gijsd/rerun/taco_play\" rec_id=episode_0\n",
      "[2025-02-28T08:56:28Z DEBUG re_log_encoding::file_sink] Log stream written to annotated_rrd.rrd\n"
     ]
    }
   ],
   "source": [
    "rr.save(\"annotated_rrd.rrd\")\n",
    "rr.get_global_data_recording().flush(blocking=True)"
   ]
  },
  {
   "cell_type": "code",
   "execution_count": 13,
   "metadata": {},
   "outputs": [
    {
     "name": "stderr",
     "output_type": "stream",
     "text": [
      "[2025-02-28T09:00:52Z DEBUG re_log_encoding::decoder] Reached end of stream, iterator complete\n"
     ]
    }
   ],
   "source": [
    "df = rr.dataframe.load_recording(\"annotated_rrd.rrd\")\n"
   ]
  },
  {
   "cell_type": "code",
   "execution_count": 14,
   "metadata": {},
   "outputs": [
    {
     "data": {
      "text/plain": [
       "pyarrow.Table\n",
       "frame_index: int64\n",
       "log_tick: int64\n",
       "log_time: timestamp[ns]\n",
       "/observation.images.rgb_gripper:comment: list<item: string>\n",
       "  child 0, item: string\n",
       "/observation.images.rgb_gripper:VideoTimestamp: list<item: int64>\n",
       "  child 0, item: int64\n",
       "/observation.images.rgb_gripper:Blob: list<item: list<item: uint8 not null>>\n",
       "  child 0, item: list<item: uint8 not null>\n",
       "      child 0, item: uint8 not null\n",
       "----\n",
       "frame_index: [[0],[1],...,[64],[65]]\n",
       "log_tick: [[null],[null],...,[null],[null]]\n",
       "log_time: [[null],[null],...,[null],[null]]\n",
       "/observation.images.rgb_gripper:comment: [[null],[null],...,[null],[null]]\n",
       "/observation.images.rgb_gripper:VideoTimestamp: [[[0]],[[66666667]],...,[[4266666667]],[[4333333333]]]\n",
       "/observation.images.rgb_gripper:Blob: [[[[0,0,0,32,102,...,49,46,49,48,48]]],[[[0,0,0,32,102,...,49,46,49,48,48]]],...,[[[0,0,0,32,102,...,49,46,49,48,48]]],[[[0,0,0,32,102,...,49,46,49,48,48]]]]"
      ]
     },
     "execution_count": 14,
     "metadata": {},
     "output_type": "execute_result"
    }
   ],
   "source": [
    "df.view(index=\"frame_index\", contents=\"/observation.images.rgb_gripper\").select().read_all()"
   ]
  }
 ],
 "metadata": {
  "kernelspec": {
   "display_name": "Python 3 (ipykernel)",
   "language": "python",
   "name": "python3"
  },
  "language_info": {
   "codemirror_mode": {
    "name": "ipython",
    "version": 3
   },
   "file_extension": ".py",
   "mimetype": "text/x-python",
   "name": "python",
   "nbconvert_exporter": "python",
   "pygments_lexer": "ipython3",
   "version": "3.11.10"
  }
 },
 "nbformat": 4,
 "nbformat_minor": 4
}
