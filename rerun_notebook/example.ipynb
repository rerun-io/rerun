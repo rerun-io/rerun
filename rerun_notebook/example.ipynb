{
	"cells": [
		{
			"cell_type": "code",
			"execution_count": null,
			"metadata": {},
			"outputs": [],
			"source": [
				"from __future__ import annotations\n",
				"\n",
				"from rerun_notebook import Viewer\n",
				"\n",
				"Viewer(\n",
				"  url=\"https://app.rerun.io/version/nightly/examples/raw_mesh.rrd\",\n",
				"  panel_states={\n",
				"    'blueprint': 'hidden',\n",
				"    'selection': 'hidden',\n",
				"    'time': 'collapsed',\n",
				"  }\n",
				")"
			]
		}
	],
	"metadata": {
		"kernelspec": {
			"display_name": ".venv",
			"language": "python",
			"name": "python3"
		},
		"language_info": {
			"codemirror_mode": {
				"name": "ipython",
				"version": 3
			},
			"file_extension": ".py",
			"mimetype": "text/x-python",
			"name": "python",
			"nbconvert_exporter": "python",
			"pygments_lexer": "ipython3",
			"version": "3.11.9"
		}
	},
	"nbformat": 4,
	"nbformat_minor": 2
}
