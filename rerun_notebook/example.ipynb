{
 "cells": [
  {
   "cell_type": "code",
   "execution_count": null,
   "metadata": {},
   "outputs": [],
   "source": [
    "%env RERUN_NOTEBOOK_ASSET=serve-local"
   ]
  },
  {
   "cell_type": "code",
   "execution_count": null,
   "metadata": {},
   "outputs": [],
   "source": [
    "from __future__ import annotations\n",
    "\n",
    "import ipywidgets as widgets\n",
    "from IPython.display import display\n",
    "\n",
    "# Create the text input widget\n",
    "text_input = widgets.Text(\n",
    "    value='',\n",
    "    placeholder='Type something here',\n",
    "    description='Input:',\n",
    "    disabled=False\n",
    ")\n",
    "\n",
    "# Create the button widget\n",
    "button = widgets.Button(\n",
    "    description='Print Input',\n",
    "    disabled=False,\n",
    "    button_style='', # 'success', 'info', 'warning', 'danger' or ''\n",
    "    tooltip='Click to print input',\n",
    "    icon='check'\n",
    ")\n",
    "\n",
    "# Create an output widget to display the results\n",
    "output = widgets.Output()\n",
    "\n",
    "# Define the button click event handler\n",
    "def on_button_clicked(b):\n",
    "    with output:\n",
    "        # Clear previous output\n",
    "        output.clear_output()\n",
    "        # Print the current value of the text input\n",
    "        print(f\"You entered: {text_input.value}\")\n",
    "\n",
    "# Connect the button click event to the handler function\n",
    "button.on_click(on_button_clicked)\n",
    "\n",
    "\n",
    "from rerun_notebook import Viewer, ViewerCallbacks\n",
    "\n",
    "viewer = Viewer(\n",
    "    url=\"https://app.rerun.io/version/nightly/examples/raw_mesh.rrd\",\n",
    "    panel_states={\n",
    "        \"blueprint\": \"hidden\",\n",
    "        \"selection\": \"expanded\",\n",
    "        \"time\": \"collapsed\",\n",
    "    },\n",
    ")\n",
    "\n",
    "class AnnotationCallbackHandler(ViewerCallbacks):\n",
    "  def on_selection_change(self, selection):\n",
    "    pass\n",
    "\n",
    "viewer.register_callbacks(AnnotationCallbackHandler())\n",
    "\n",
    "# Display all widgets\n",
    "display(viewer)\n",
    "display(text_input)\n",
    "display(button)\n",
    "display(output)\n"
   ]
  }
 ],
 "metadata": {
  "kernelspec": {
   "display_name": "py",
   "language": "python",
   "name": "python3"
  },
  "language_info": {
   "codemirror_mode": {
    "name": "ipython",
    "version": 3
   },
   "file_extension": ".py",
   "mimetype": "text/x-python",
   "name": "python",
   "nbconvert_exporter": "python",
   "pygments_lexer": "ipython3",
   "version": "3.11.10"
  }
 },
 "nbformat": 4,
 "nbformat_minor": 2
}
