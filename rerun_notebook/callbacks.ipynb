{
 "cells": [
  {
   "cell_type": "code",
   "execution_count": null,
   "id": "5abdc01c-8d73-4ab2-81de-64aa56a1a61e",
   "metadata": {},
   "outputs": [],
   "source": [
    "from __future__ import annotations"
   ]
  },
  {
   "cell_type": "code",
   "execution_count": null,
   "id": "39da056a-d8ce-4f15-bc78-2c2b71189d25",
   "metadata": {},
   "outputs": [],
   "source": [
    "%env RERUN_NOTEBOOK_ASSET=serve-local"
   ]
  },
  {
   "cell_type": "code",
   "execution_count": null,
   "id": "3f8e6f35-2802-4a68-a56a-20a11b618532",
   "metadata": {},
   "outputs": [],
   "source": [
    "class AnnotationTool(ViewerCallbacks):\n",
    "    pass"
   ]
  },
  {
   "cell_type": "code",
   "execution_count": null,
   "id": "b5455fbf-b4c1-43b5-9322-81899c125025",
   "metadata": {},
   "outputs": [],
   "source": [
    "recording = rr.RecordingStream()\n",
    "\n",
    "AnnotationTool()"
   ]
  }
 ],
 "metadata": {
  "kernelspec": {
   "display_name": "Python 3 (ipykernel)",
   "language": "python",
   "name": "python3"
  },
  "language_info": {
   "codemirror_mode": {
    "name": "ipython",
    "version": 3
   },
   "file_extension": ".py",
   "mimetype": "text/x-python",
   "name": "python",
   "nbconvert_exporter": "python",
   "pygments_lexer": "ipython3",
   "version": "3.11.10"
  }
 },
 "nbformat": 4,
 "nbformat_minor": 5
}
