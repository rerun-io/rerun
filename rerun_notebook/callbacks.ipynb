{
 "cells": [
  {
   "cell_type": "code",
   "execution_count": 1,
   "id": "ec34bdbe",
   "metadata": {},
   "outputs": [],
   "source": [
    "from __future__ import annotations"
   ]
  },
  {
   "cell_type": "code",
   "execution_count": null,
   "id": "5abdc01c-8d73-4ab2-81de-64aa56a1a61e",
   "metadata": {},
   "outputs": [],
   "source": [
    "import math\n",
    "\n",
    "import ipywidgets as widgets\n",
    "import numpy as np\n",
    "import rerun as rr\n",
    "from rerun.notebook import Viewer, ViewerCallbacks\n",
    "from rerun.utilities import build_color_grid"
   ]
  },
  {
   "cell_type": "code",
   "execution_count": null,
   "id": "b5455fbf-b4c1-43b5-9322-81899c125025",
   "metadata": {},
   "outputs": [],
   "source": [
    "# Log some data\n",
    "rr.init(\"rerun_example_callbacks\")\n",
    "\n",
    "STEPS = 100\n",
    "twists = math.pi * np.sin(np.linspace(0, math.tau, STEPS)) / 4\n",
    "for t in range(STEPS):\n",
    "    rr.set_time(\"step\", sequence=t)\n",
    "    cube = build_color_grid(10, 10, 10, twist=twists[t])\n",
    "    rr.log(\"cube\", rr.Points3D(cube.positions, colors=cube.colors, radii=0.5))\n",
    "\n",
    "\n",
    "# Use callbacks to track the current time and active selection\n",
    "class Example(ViewerCallbacks):\n",
    "    def __init__(self) -> None:\n",
    "        self.selection = \"\"\n",
    "        self.time = \"\"\n",
    "        self.timeline = \"\"\n",
    "\n",
    "        self.viewer = Viewer()\n",
    "        self.viewer.register_callbacks(self)\n",
    "\n",
    "        self.time_label = widgets.Label()\n",
    "        self.selection_label = widgets.Label()\n",
    "        self.label = widgets.VBox([self.time_label, self.selection_label])\n",
    "\n",
    "    def _ipython_display_(self):\n",
    "        self.viewer.display()\n",
    "        display(self.label)\n",
    "\n",
    "    def update_label(self) -> None:\n",
    "        self.time_label.value = f\"time={self.timeline} @ {self.time}\"\n",
    "        self.selection_label.value = f\"selected=[{self.selection}]\"\n",
    "\n",
    "    def on_selection_change(self, selection) -> None:\n",
    "        label = []\n",
    "        for item in selection:\n",
    "            if item.kind == \"entity\":\n",
    "                label.append(f\"Entity({item.entity_path})\")\n",
    "            elif item.kind == \"instance\":\n",
    "                label.append(f\"Entity({item.entity_path}[{item.instance_id}])\")\n",
    "            elif item.kind == \"container\":\n",
    "                label.append(f\"Container({item.container_id})\")\n",
    "            elif item.kind == \"view\":\n",
    "                label.append(f\"View({item.view_id})\")\n",
    "        self.selection = \", \".join(label)\n",
    "        self.update_label()\n",
    "\n",
    "    def on_time_update(self, time) -> None:\n",
    "        self.time = str(time)\n",
    "        self.update_label()\n",
    "\n",
    "    def on_timeline_change(self, timeline, time) -> None:\n",
    "        self.timeline = str(timeline)\n",
    "        self.time = str(time)\n",
    "        self.update_label()\n",
    "\n",
    "\n",
    "# Start the viewer instance\n",
    "Example()"
   ]
  }
 ],
 "metadata": {
  "kernelspec": {
   "display_name": "py",
   "language": "python",
   "name": "python3"
  },
  "language_info": {
   "codemirror_mode": {
    "name": "ipython",
    "version": 3
   },
   "file_extension": ".py",
   "mimetype": "text/x-python",
   "name": "python",
   "nbconvert_exporter": "python",
   "pygments_lexer": "ipython3",
   "version": "3.11.10"
  }
 },
 "nbformat": 4,
 "nbformat_minor": 5
}
