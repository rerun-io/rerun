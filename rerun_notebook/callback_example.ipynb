{
 "cells": [
  {
   "cell_type": "code",
   "execution_count": 1,
   "metadata": {},
   "outputs": [
    {
     "name": "stdout",
     "output_type": "stream",
     "text": [
      "env: RERUN_NOTEBOOK_ASSET=serve-local\n"
     ]
    }
   ],
   "source": [
    "%env RERUN_NOTEBOOK_ASSET=serve-local"
   ]
  },
  {
   "cell_type": "code",
   "execution_count": 2,
   "metadata": {},
   "outputs": [
    {
     "name": "stdout",
     "output_type": "stream",
     "text": [
      "Serving rerun notebook assets at http://127.0.0.1:58426\n",
      "import failed:  cannot import name 'StorageNodeClient' from 'rerun_bindings' (/Users/gijsd/rerun/rerun/rerun_py/rerun_bindings/__init__.py)\n"
     ]
    },
    {
     "name": "stderr",
     "output_type": "stream",
     "text": [
      "DEV ENVIRONMENT DETECTED! Re-importing rerun from: /Users/gijsd/rerun/rerun/rerun_py/rerun_sdk\n"
     ]
    }
   ],
   "source": [
    "import ipywidgets as widgets\n",
    "from IPython.display import display\n",
    "import datetime\n",
    "import math\n",
    "\n",
    "import rerun as rr\n",
    "from rerun.notebook import Viewer, ViewerCallbacks, SelectionItem, RecordingStream\n",
    "from rerun.dataframe import Recording"
   ]
  },
  {
   "cell_type": "code",
   "execution_count": 3,
   "metadata": {},
   "outputs": [
    {
     "name": "stdout",
     "output_type": "stream",
     "text": [
      "Loaded recording: \"/Users/gijsd/rerun/redap-dev-tools/pusht_image\" episode_105\n"
     ]
    },
    {
     "name": "stderr",
     "output_type": "stream",
     "text": [
      "[2025-02-28T10:40:11Z DEBUG re_log_encoding::decoder] Reached end of stream, iterator complete\n",
      "[2025-02-28T10:40:11Z DEBUG re_chunk::batcher] creating new chunk batcher config=ChunkBatcherConfig { flush_tick: 8ms, flush_num_bytes: 1048576, flush_num_rows: 18446744073709551615, chunk_max_rows_if_unsorted: 256, max_commands_in_flight: None, max_chunks_in_flight: None, hooks: BatcherHooks { on_insert: None, on_release: Some(ArrowRecordBatchReleaseCallback(\"0x45930020290\")) } }\n",
      "[2025-02-28T10:40:11Z DEBUG re_sdk::recording_stream] setting recording info app_id=\"/Users/gijsd/rerun/redap-dev-tools/pusht_image\" rec_id=episode_105\n",
      "[2025-02-28T10:40:11Z INFO  re_data_loader::load_file] Loading \"/Users/gijsd/rerun/pusht_image_raw.rrd\"…\n",
      "[2025-02-28T10:40:11Z DEBUG re_data_loader::loader_rrd] Loading rrd data from filesystem… filepath=\"/Users/gijsd/rerun/pusht_image_raw.rrd\" loader=\"rerun.data_loaders.Rrd\"\n",
      "[2025-02-28T10:40:11Z DEBUG re_data_loader::load_file] compatible loader found loader=\"rerun.data_loaders.Rrd\" path=\"/Users/gijsd/rerun/pusht_image_raw.rrd\"\n",
      "[2025-02-28T10:40:11Z DEBUG re_log_encoding::decoder] Reached end of stream, iterator complete\n"
     ]
    }
   ],
   "source": [
    "RAW_RECORDING_PATH = \"/Users/gijsd/rerun/pusht_image_raw.rrd\"\n",
    "raw_recording = rr.dataframe.load_recording(RAW_RECORDING_PATH)\n",
    "print(\"Loaded recording:\", raw_recording.application_id(), raw_recording.recording_id())\n",
    "\n",
    "annotated_recording = rr.new_recording(\n",
    "    application_id=raw_recording.application_id(), recording_id=raw_recording.recording_id()\n",
    ")\n",
    "rr.log_file_from_path(file_path=RAW_RECORDING_PATH, recording=annotated_recording)"
   ]
  },
  {
   "cell_type": "code",
   "execution_count": 4,
   "metadata": {},
   "outputs": [],
   "source": [
    "class RecordingMarker(ViewerCallbacks):\n",
    "    def __init__(self, viewer: Viewer, annotated_recording: RecordingStream, raw_recording: Recording):\n",
    "        self.viewer = viewer\n",
    "        self.annotated_recording = annotated_recording\n",
    "        self.raw_recording = raw_recording\n",
    "        self.timeline = \"log_time\"\n",
    "        self.time = 0\n",
    "        self.entity_path = \"\"\n",
    "\n",
    "        # Create widgets\n",
    "        self.timestamp_button = widgets.Button(\n",
    "            description=\"Add Timestamp\", button_style=\"primary\", tooltip=\"Mark current position in the recording\"\n",
    "        )\n",
    "\n",
    "        self.comment_text = widgets.Text(\n",
    "            placeholder=\"Optional comment\", description=\"Comment:\", style={\"description_width\": \"initial\"}\n",
    "        )\n",
    "\n",
    "        self.markers_output = widgets.Output(\n",
    "            layout={\n",
    "                \"border\": \"1px solid #ddd\",\n",
    "                \"padding\": \"10px\",\n",
    "                \"margin\": \"10px 0px\",\n",
    "                \"max_height\": \"300px\",\n",
    "                \"overflow\": \"auto\",\n",
    "                \"color\": \"white\",\n",
    "            }\n",
    "        )\n",
    "\n",
    "        # Label for timeline, time, and entity path\n",
    "        self.time_label = widgets.Label(value=self._get_time_label_text())\n",
    "\n",
    "        # Replace status output with status label\n",
    "        self.status_label = widgets.Label(value=\"\")\n",
    "\n",
    "        self.timestamp_button.on_click(self.add_marker)\n",
    "        self.widget = widgets.VBox(\n",
    "            [\n",
    "                self.time_label,\n",
    "                widgets.HBox([self.timestamp_button, self.comment_text]),\n",
    "                self.markers_output,\n",
    "                self.status_label,\n",
    "            ],\n",
    "            layout=widgets.Layout(\n",
    "                background_color=\"white\",\n",
    "                padding=\"10px\",\n",
    "            ),\n",
    "        )\n",
    "\n",
    "    def _get_time_label_text(self):\n",
    "        \"\"\"Helper to construct the text for the time label including entity path.\"\"\"\n",
    "        entity_info = f\" | Selected: {self.entity_path}\" if self.entity_path else \"\"\n",
    "        return f\"{self.timeline}: {self.time}{entity_info}\"\n",
    "\n",
    "    def on_time_update(self, time: float):\n",
    "        self.time = int(time)\n",
    "        self.update_timeline()\n",
    "\n",
    "    def on_timeline_change(self, timeline: str, time: float):\n",
    "        self.timeline = timeline\n",
    "        self.time = int(time)\n",
    "        self.update_timeline()\n",
    "\n",
    "    def update_timeline(self):\n",
    "        # Update the Label widget with time and entity path\n",
    "        self.time_label.value = self._get_time_label_text()\n",
    "\n",
    "    def on_selection_change(self, selection: list[SelectionItem]):\n",
    "        for s in selection:\n",
    "            if s.kind == \"entity_path\":\n",
    "                self.entity_path = s.entity_path\n",
    "                # Update the label when entity_path changes\n",
    "                self.update_timeline()\n",
    "\n",
    "    def add_marker(self, button):\n",
    "        \"\"\"Add a new timestamp marker with optional comment.\"\"\"\n",
    "        comment = self.comment_text.value.strip()\n",
    "\n",
    "        rr.set_time_sequence(timeline=self.timeline, sequence=self.time, recording=self.annotated_recording)\n",
    "        rr.log(self.entity_path, rr.AnyValues(marker=(), comment=comment), recording=self.annotated_recording)\n",
    "\n",
    "        # Update status label instead of using output widget\n",
    "        self.status_label.value = f\"✓ Marker added at {self.time} ({self.timeline})\"\n",
    "        self.comment_text.value = \"\"\n",
    "\n",
    "    def display(self):\n",
    "        \"\"\"Display the widget.\"\"\"\n",
    "        display(self.widget)"
   ]
  },
  {
   "cell_type": "code",
   "execution_count": 5,
   "metadata": {},
   "outputs": [
    {
     "name": "stderr",
     "output_type": "stream",
     "text": [
      "[2025-02-28T10:40:11Z DEBUG re_sdk::recording_stream] setting recording info app_id=\"/Users/gijsd/rerun/redap-dev-tools/pusht_image\" rec_id=episode_105\n"
     ]
    },
    {
     "data": {
      "application/vnd.jupyter.widget-view+json": {
       "model_id": "7556d01d0b4d4213a6c204ce298970e7",
       "version_major": 2,
       "version_minor": 1
      },
      "text/plain": [
       "Viewer()"
      ]
     },
     "metadata": {},
     "output_type": "display_data"
    },
    {
     "data": {
      "application/vnd.jupyter.widget-view+json": {
       "model_id": "a409f29768fa4706b909c0c1a4990edc",
       "version_major": 2,
       "version_minor": 0
      },
      "text/plain": [
       "VBox(children=(Label(value='log_time: 0'), HBox(children=(Button(button_style='primary', description='Add Time…"
      ]
     },
     "metadata": {},
     "output_type": "display_data"
    }
   ],
   "source": [
    "viewer = Viewer(\n",
    "    width=1280,\n",
    "    height=720,\n",
    "    recording=annotated_recording,\n",
    ")\n",
    "marker_callback = RecordingMarker(viewer, annotated_recording, raw_recording)\n",
    "viewer.register_callbacks(marker_callback)\n",
    "\n",
    "display(viewer)\n",
    "marker_callback.display()"
   ]
  }
 ],
 "metadata": {
  "kernelspec": {
   "display_name": "py",
   "language": "python",
   "name": "python3"
  },
  "language_info": {
   "codemirror_mode": {
    "name": "ipython",
    "version": 3
   },
   "file_extension": ".py",
   "mimetype": "text/x-python",
   "name": "python",
   "nbconvert_exporter": "python",
   "pygments_lexer": "ipython3",
   "version": "3.11.10"
  }
 },
 "nbformat": 4,
 "nbformat_minor": 2
}
