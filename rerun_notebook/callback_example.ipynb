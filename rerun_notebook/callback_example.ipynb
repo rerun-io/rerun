{
 "cells": [
  {
   "cell_type": "code",
   "execution_count": 1,
   "metadata": {},
   "outputs": [
    {
     "name": "stdout",
     "output_type": "stream",
     "text": [
      "env: RERUN_NOTEBOOK_ASSET=serve-local\n"
     ]
    }
   ],
   "source": [
    "%env RERUN_NOTEBOOK_ASSET=serve-local"
   ]
  },
  {
   "cell_type": "code",
   "execution_count": 2,
   "metadata": {},
   "outputs": [
    {
     "name": "stderr",
     "output_type": "stream",
     "text": [
      "DEV ENVIRONMENT DETECTED! Re-importing rerun from: /Users/gijsd/rerun/rerun/rerun_py/rerun_sdk\n"
     ]
    },
    {
     "name": "stdout",
     "output_type": "stream",
     "text": [
      "Serving rerun notebook assets at http://127.0.0.1:59168\n",
      "import failed:  cannot import name 'StorageNodeClient' from 'rerun_bindings' (/Users/gijsd/rerun/rerun/rerun_py/rerun_bindings/__init__.py)\n"
     ]
    }
   ],
   "source": [
    "import ipywidgets as widgets\n",
    "from IPython.display import display\n",
    "import datetime\n",
    "import math\n",
    "\n",
    "import rerun as rr\n",
    "from rerun.notebook import Viewer, ViewerCallbacks, SelectionItem, RecordingStream\n",
    "from rerun.dataframe import Recording"
   ]
  },
  {
   "cell_type": "code",
   "execution_count": 3,
   "metadata": {},
   "outputs": [
    {
     "name": "stdout",
     "output_type": "stream",
     "text": [
      "Loaded recording: \"/Users/gijsd/rerun/redap-dev-tools/pusht_image\" episode_105\n"
     ]
    },
    {
     "name": "stderr",
     "output_type": "stream",
     "text": [
      "[2025-02-28T11:17:42Z DEBUG re_log_encoding::decoder] Reached end of stream, iterator complete\n",
      "[2025-02-28T11:17:42Z DEBUG re_chunk::batcher] creating new chunk batcher config=ChunkBatcherConfig { flush_tick: 8ms, flush_num_bytes: 1048576, flush_num_rows: 18446744073709551615, chunk_max_rows_if_unsorted: 256, max_commands_in_flight: None, max_chunks_in_flight: None, hooks: BatcherHooks { on_insert: None, on_release: Some(ArrowRecordBatchReleaseCallback(\"0x2726e020260\")) } }\n",
      "[2025-02-28T11:17:42Z DEBUG re_sdk::recording_stream] setting recording info app_id=\"/Users/gijsd/rerun/redap-dev-tools/pusht_image\" rec_id=episode_105\n",
      "[2025-02-28T11:17:42Z INFO  re_data_loader::load_file] Loading \"/Users/gijsd/rerun/pusht_image_raw.rrd\"…\n",
      "[2025-02-28T11:17:42Z DEBUG re_data_loader::loader_rrd] Loading rrd data from filesystem… filepath=\"/Users/gijsd/rerun/pusht_image_raw.rrd\" loader=\"rerun.data_loaders.Rrd\"\n",
      "[2025-02-28T11:17:42Z DEBUG re_data_loader::load_file] compatible loader found loader=\"rerun.data_loaders.Rrd\" path=\"/Users/gijsd/rerun/pusht_image_raw.rrd\"\n",
      "[2025-02-28T11:17:42Z DEBUG re_log_encoding::decoder] Reached end of stream, iterator complete\n"
     ]
    }
   ],
   "source": [
    "RAW_RECORDING_PATH = \"/Users/gijsd/rerun/pusht_image_raw.rrd\"\n",
    "raw_recording = rr.dataframe.load_recording(RAW_RECORDING_PATH)\n",
    "print(\"Loaded recording:\", raw_recording.application_id(), raw_recording.recording_id())\n",
    "\n",
    "annotated_recording = rr.new_recording(\n",
    "    application_id=raw_recording.application_id(), recording_id=raw_recording.recording_id()\n",
    ")\n",
    "rr.log_file_from_path(file_path=RAW_RECORDING_PATH, recording=annotated_recording)"
   ]
  },
  {
   "cell_type": "code",
   "execution_count": 4,
   "metadata": {},
   "outputs": [],
   "source": [
    "class RecordingMarker(ViewerCallbacks):\n",
    "    def __init__(self, viewer: Viewer, annotated_recording: RecordingStream, raw_recording: Recording):\n",
    "        self.viewer = viewer\n",
    "        self.annotated_recording = annotated_recording\n",
    "        self.raw_recording = raw_recording\n",
    "        self.timeline = \"log_time\"\n",
    "        self.time = 0\n",
    "        self.entity_path = \"\"\n",
    "\n",
    "        # Create widgets\n",
    "        self.timestamp_button = widgets.Button(\n",
    "            description=\"Add Timestamp\", button_style=\"primary\", tooltip=\"Mark current position in the recording\"\n",
    "        )\n",
    "\n",
    "        self.comment_text = widgets.Text(\n",
    "            placeholder=\"Optional comment\", description=\"Comment:\", style={\"description_width\": \"initial\"}\n",
    "        )\n",
    "\n",
    "        self.markers_output = widgets.Output(\n",
    "            layout={\n",
    "                \"border\": \"1px solid #ddd\",\n",
    "                \"padding\": \"10px\",\n",
    "                \"margin\": \"10px 0px\",\n",
    "                \"max_height\": \"300px\",\n",
    "                \"overflow\": \"auto\",\n",
    "                \"color\": \"white\",\n",
    "            }\n",
    "        )\n",
    "\n",
    "        # Label for timeline, time, and entity path\n",
    "        self.time_label = widgets.Label(value=self._get_time_label_text())\n",
    "\n",
    "        # Replace status output with status label\n",
    "        self.status_label = widgets.Label(value=\"\")\n",
    "\n",
    "        # Add image widget\n",
    "        self.image_widget = widgets.Image(\n",
    "            format=\"png\", width=400, height=300, layout=widgets.Layout(border=\"1px solid #ddd\", margin=\"10px 0px\")\n",
    "        )\n",
    "\n",
    "        # Add a NumPy widget container (Output widget where numpy content can be displayed)\n",
    "        self.numpy_output = widgets.Output(\n",
    "            layout={\n",
    "                \"border\": \"1px solid #ddd\",\n",
    "                \"padding\": \"10px\",\n",
    "                \"margin\": \"10px 0px\",\n",
    "                \"min_height\": \"200px\",\n",
    "            }\n",
    "        )\n",
    "\n",
    "        self.timestamp_button.on_click(self.add_marker)\n",
    "        self.widget = widgets.VBox(\n",
    "            [\n",
    "                self.time_label,\n",
    "                widgets.HBox([self.timestamp_button, self.comment_text]),\n",
    "                self.markers_output,\n",
    "                self.status_label,\n",
    "                self.image_widget,\n",
    "                self.numpy_output,\n",
    "            ],\n",
    "            layout=widgets.Layout(\n",
    "                background_color=\"white\",\n",
    "                padding=\"10px\",\n",
    "            ),\n",
    "        )\n",
    "\n",
    "    def _get_time_label_text(self):\n",
    "        \"\"\"Helper to construct the text for the time label including entity path.\"\"\"\n",
    "        entity_info = f\" | Selected: {self.entity_path}\" if self.entity_path else \"\"\n",
    "        return f\"{self.timeline}: {self.time}{entity_info}\"\n",
    "\n",
    "    def on_time_update(self, time: float):\n",
    "        self.time = int(time)\n",
    "        self.update_timeline()\n",
    "\n",
    "    def on_timeline_change(self, timeline: str, time: float):\n",
    "        self.timeline = timeline\n",
    "        self.time = int(time)\n",
    "        self.update_timeline()\n",
    "\n",
    "    def update_timeline(self):\n",
    "        # Update the Label widget with time and entity path\n",
    "        self.time_label.value = self._get_time_label_text()\n",
    "\n",
    "    def on_selection_change(self, selection: list[SelectionItem]):\n",
    "        for s in selection:\n",
    "            if s.kind == \"entity_path\":\n",
    "                self.entity_path = s.entity_path\n",
    "                self.update_timeline()\n",
    "\n",
    "    def add_marker(self, button):\n",
    "        \"\"\"Add a new timestamp marker with optional comment.\"\"\"\n",
    "        comment = self.comment_text.value.strip()\n",
    "\n",
    "        rr.set_time_sequence(timeline=self.timeline, sequence=self.time, recording=self.annotated_recording)\n",
    "        rr.log(self.entity_path, rr.AnyValues(marker=(), comment=comment), recording=self.annotated_recording)\n",
    "\n",
    "        # Update status label instead of using output widget\n",
    "        self.status_label.value = f\"✓ Marker added at {self.time} ({self.timeline})\"\n",
    "        self.comment_text.value = \"\"\n",
    "\n",
    "    def update_image(self, image_data):\n",
    "        \"\"\"Update the image widget with new image data.\n",
    "\n",
    "        Args:\n",
    "            image_data: NumPy array containing image data\n",
    "        \"\"\"\n",
    "        if image_data is not None:\n",
    "            # Convert numpy array to bytes for the Image widget\n",
    "            import io\n",
    "            from PIL import Image\n",
    "            import numpy as np\n",
    "\n",
    "            # Ensure image data is in the right format (uint8)\n",
    "            if image_data.dtype != np.uint8:\n",
    "                image_data = (image_data * 255).astype(np.uint8)\n",
    "\n",
    "            # Create PIL Image and convert to bytes\n",
    "            pil_image = Image.fromarray(image_data)\n",
    "            buffer = io.BytesIO()\n",
    "            pil_image.save(buffer, format=\"PNG\")\n",
    "            self.image_widget.value = buffer.getvalue()\n",
    "\n",
    "    def update_numpy_widget(self, numpy_content):\n",
    "        \"\"\"\n",
    "        Display NumPy content in the numpy output widget.\n",
    "\n",
    "        Args:\n",
    "\n",
    "            numpy_content: The numpy array or data to display\n",
    "        \"\"\"\n",
    "        with self.numpy_output:\n",
    "            self.numpy_output.clear_output()\n",
    "            import matplotlib.pyplot as plt\n",
    "\n",
    "            # Display numpy data or visualization\n",
    "            plt.figure(figsize=(6, 4))\n",
    "            if len(numpy_content.shape) == 1:\n",
    "                plt.plot(numpy_content)\n",
    "            else:\n",
    "                plt.imshow(numpy_content)\n",
    "            plt.colorbar()\n",
    "            plt.tight_layout()\n",
    "            plt.show()\n",
    "\n",
    "    def display(self):\n",
    "        \"\"\"Display the widget.\"\"\"\n",
    "        display(self.widget)"
   ]
  },
  {
   "cell_type": "code",
   "execution_count": 5,
   "metadata": {},
   "outputs": [
    {
     "name": "stderr",
     "output_type": "stream",
     "text": [
      "[2025-02-28T11:17:42Z DEBUG re_sdk::recording_stream] setting recording info app_id=\"/Users/gijsd/rerun/redap-dev-tools/pusht_image\" rec_id=episode_105\n"
     ]
    },
    {
     "data": {
      "application/vnd.jupyter.widget-view+json": {
       "model_id": "f79c9321909846308d891c189e2b983c",
       "version_major": 2,
       "version_minor": 1
      },
      "text/plain": [
       "Viewer()"
      ]
     },
     "metadata": {},
     "output_type": "display_data"
    },
    {
     "data": {
      "application/vnd.jupyter.widget-view+json": {
       "model_id": "deb42cf907d742fd8464163028e23f65",
       "version_major": 2,
       "version_minor": 0
      },
      "text/plain": [
       "VBox(children=(Label(value='log_time: 0'), HBox(children=(Button(button_style='primary', description='Add Time…"
      ]
     },
     "metadata": {},
     "output_type": "display_data"
    }
   ],
   "source": [
    "viewer = Viewer(\n",
    "    width=1280,\n",
    "    height=720,\n",
    "    recording=annotated_recording,\n",
    ")\n",
    "marker_callback = RecordingMarker(viewer, annotated_recording, raw_recording)\n",
    "viewer.register_callbacks(marker_callback)\n",
    "\n",
    "display(viewer)\n",
    "marker_callback.display()"
   ]
  },
  {
   "cell_type": "code",
   "execution_count": 7,
   "metadata": {},
   "outputs": [
    {
     "data": {
      "text/plain": [
       "pyarrow.Table\n",
       "frame_index: int64\n",
       "/observation.image:Blob: list<item: list<item: uint8 not null>>\n",
       "  child 0, item: list<item: uint8 not null>\n",
       "      child 0, item: uint8 not null\n",
       "/observation.image:MediaType: list<item: string>\n",
       "  child 0, item: string\n",
       "----\n",
       "frame_index: [[0],[1],...,[73],[74]]\n",
       "/observation.image:Blob: [[[[137,80,78,71,13,...,68,174,66,96,130]]],[[[137,80,78,71,13,...,68,174,66,96,130]]],...,[[[137,80,78,71,13,...,68,174,66,96,130]]],[[[137,80,78,71,13,...,68,174,66,96,130]]]]\n",
       "/observation.image:MediaType: [[[\"image/png\"]],[[\"image/png\"]],...,[[\"image/png\"]],[[\"image/png\"]]]"
      ]
     },
     "execution_count": 7,
     "metadata": {},
     "output_type": "execute_result"
    }
   ],
   "source": [
    "raw_recording.view(index=\"frame_index\", contents=\"/observation.image\").select().read_all()"
   ]
  },
  {
   "cell_type": "code",
   "execution_count": null,
   "metadata": {},
   "outputs": [],
   "source": []
  }
 ],
 "metadata": {
  "kernelspec": {
   "display_name": "py",
   "language": "python",
   "name": "python3"
  },
  "language_info": {
   "codemirror_mode": {
    "name": "ipython",
    "version": 3
   },
   "file_extension": ".py",
   "mimetype": "text/x-python",
   "name": "python",
   "nbconvert_exporter": "python",
   "pygments_lexer": "ipython3",
   "version": "3.11.10"
  }
 },
 "nbformat": 4,
 "nbformat_minor": 2
}
